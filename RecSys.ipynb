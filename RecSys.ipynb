{
 "cells": [
  {
   "cell_type": "markdown",
   "id": "systematic-westminster",
   "metadata": {},
   "source": [
    "## Lab 3 - RecSys\n",
    "---\n",
    "\n",
    "#### Miquel Monge Dalmau, NIU: 1565230\n",
    "#### Mateo Sesma Urbano, NIU: 1568353\n",
    "\n",
    "---"
   ]
  },
  {
   "cell_type": "markdown",
   "id": "sticky-brunswick",
   "metadata": {},
   "source": [
    "### PySpark Initialization"
   ]
  },
  {
   "cell_type": "markdown",
   "id": "reverse-determination",
   "metadata": {},
   "source": [
    "Primero de todo, debemos inicializar PySpark, de la misma forma que hemos utilizado en sesiones anteriores. Además, aprovechamos para importar todas las librerías que utilizamos a lo largo de la práctica."
   ]
  },
  {
   "cell_type": "code",
   "execution_count": 1,
   "id": "vulnerable-amendment",
   "metadata": {},
   "outputs": [],
   "source": [
    "import os\n",
    "import matplotlib.pyplot as plt\n",
    "import seaborn as sns\n",
    "import pandas as pd\n",
    "import numpy as np\n",
    "import pyspark.sql.functions as F\n",
    "from pyspark.sql.functions import col\n",
    "from pyspark.sql.types import DoubleType"
   ]
  },
  {
   "cell_type": "code",
   "execution_count": 2,
   "id": "sunset-columbia",
   "metadata": {},
   "outputs": [
    {
     "name": "stdout",
     "output_type": "stream",
     "text": [
      "all done\n"
     ]
    }
   ],
   "source": [
    "if not (\"spark\" in vars() or \"spark\" in globals()):\n",
    "    from pyspark.sql import SparkSession\n",
    "    spark = SparkSession.builder.appName(\"covtype-training\").master(\"local\").getOrCreate()\n",
    "else:\n",
    "    print(\"all done\")\n",
    "    \n",
    "import warnings\n",
    "warnings.filterwarnings(\"ignore\")"
   ]
  },
  {
   "cell_type": "markdown",
   "id": "coordinated-parade",
   "metadata": {},
   "source": [
    "### Load / Clean data"
   ]
  },
  {
   "cell_type": "markdown",
   "id": "drawn-indonesian",
   "metadata": {},
   "source": [
    "Una vez inicializado el contexto de PySpark, vamos a cargar los datos. En este caso, tenemos un archivo en format .csv que dispone de *header*. A la hora de cargar los datos, dejamos que Spark infiera en el schema de forma automática con *inferSchema a True*"
   ]
  },
  {
   "cell_type": "code",
   "execution_count": 3,
   "id": "d388f94a",
   "metadata": {},
   "outputs": [],
   "source": [
    "data = spark.read.option(\"header\", True).csv(\"covtype.csv\", inferSchema = True)"
   ]
  },
  {
   "cell_type": "markdown",
   "id": "disabled-charleston",
   "metadata": {},
   "source": [
    "Una vez hemos cargado el archivo en memoria, podemos empezar con la exploración. En esta, veremos características de los datos. Para empezar, es bueno saber el número de columnas y filas que tiene nuestro csv."
   ]
  },
  {
   "cell_type": "code",
   "execution_count": 4,
   "id": "02d0ffdd",
   "metadata": {},
   "outputs": [
    {
     "name": "stdout",
     "output_type": "stream",
     "text": [
      "No.rows: 577231\n",
      "No.columns: 55\n"
     ]
    }
   ],
   "source": [
    "total_rows = data.count()\n",
    "print(f\"No.rows: {total_rows}\")\n",
    "print(f\"No.columns: {len(data.columns)}\")\n"
   ]
  },
  {
   "cell_type": "markdown",
   "id": "worthy-treasure",
   "metadata": {},
   "source": [
    "Ahora vamos a ver el schema de nuestros datos, recordamos que de la forma en que hemos leído los datos, Spark ha detectado el *schema* de forma automática."
   ]
  },
  {
   "cell_type": "code",
   "execution_count": 5,
   "id": "ffaae963",
   "metadata": {},
   "outputs": [
    {
     "name": "stdout",
     "output_type": "stream",
     "text": [
      "root\n",
      " |-- Elevation: integer (nullable = true)\n",
      " |-- Aspect: integer (nullable = true)\n",
      " |-- Slope: integer (nullable = true)\n",
      " |-- Horizontal_Distance_To_Hydrology: integer (nullable = true)\n",
      " |-- Vertical_Distance_To_Hydrology: integer (nullable = true)\n",
      " |-- Horizontal_Distance_To_Roadways: integer (nullable = true)\n",
      " |-- Hillshade_9am: integer (nullable = true)\n",
      " |-- Hillshade_Noon: integer (nullable = true)\n",
      " |-- Hillshade_3pm: integer (nullable = true)\n",
      " |-- Horizontal_Distance_To_Fire_Points: integer (nullable = true)\n",
      " |-- Wilderness_Area1: integer (nullable = true)\n",
      " |-- Wilderness_Area2: integer (nullable = true)\n",
      " |-- Wilderness_Area3: integer (nullable = true)\n",
      " |-- Wilderness_Area4: integer (nullable = true)\n",
      " |-- Soil_Type1: integer (nullable = true)\n",
      " |-- Soil_Type2: integer (nullable = true)\n",
      " |-- Soil_Type3: integer (nullable = true)\n",
      " |-- Soil_Type4: integer (nullable = true)\n",
      " |-- Soil_Type5: integer (nullable = true)\n",
      " |-- Soil_Type6: integer (nullable = true)\n",
      " |-- Soil_Type7: integer (nullable = true)\n",
      " |-- Soil_Type8: integer (nullable = true)\n",
      " |-- Soil_Type9: integer (nullable = true)\n",
      " |-- Soil_Type10: integer (nullable = true)\n",
      " |-- Soil_Type11: integer (nullable = true)\n",
      " |-- Soil_Type12: integer (nullable = true)\n",
      " |-- Soil_Type13: integer (nullable = true)\n",
      " |-- Soil_Type14: integer (nullable = true)\n",
      " |-- Soil_Type15: integer (nullable = true)\n",
      " |-- Soil_Type16: integer (nullable = true)\n",
      " |-- Soil_Type17: integer (nullable = true)\n",
      " |-- Soil_Type18: integer (nullable = true)\n",
      " |-- Soil_Type19: integer (nullable = true)\n",
      " |-- Soil_Type20: integer (nullable = true)\n",
      " |-- Soil_Type21: integer (nullable = true)\n",
      " |-- Soil_Type22: integer (nullable = true)\n",
      " |-- Soil_Type23: integer (nullable = true)\n",
      " |-- Soil_Type24: integer (nullable = true)\n",
      " |-- Soil_Type25: integer (nullable = true)\n",
      " |-- Soil_Type26: integer (nullable = true)\n",
      " |-- Soil_Type27: integer (nullable = true)\n",
      " |-- Soil_Type28: integer (nullable = true)\n",
      " |-- Soil_Type29: integer (nullable = true)\n",
      " |-- Soil_Type30: integer (nullable = true)\n",
      " |-- Soil_Type31: integer (nullable = true)\n",
      " |-- Soil_Type32: integer (nullable = true)\n",
      " |-- Soil_Type33: integer (nullable = true)\n",
      " |-- Soil_Type34: integer (nullable = true)\n",
      " |-- Soil_Type35: integer (nullable = true)\n",
      " |-- Soil_Type36: integer (nullable = true)\n",
      " |-- Soil_Type37: integer (nullable = true)\n",
      " |-- Soil_Type38: integer (nullable = true)\n",
      " |-- Soil_Type39: integer (nullable = true)\n",
      " |-- Soil_Type40: integer (nullable = true)\n",
      " |-- Cover_Type: integer (nullable = true)\n",
      "\n"
     ]
    }
   ],
   "source": [
    "data.printSchema()"
   ]
  },
  {
   "cell_type": "markdown",
   "id": "settled-supervisor",
   "metadata": {},
   "source": [
    "Mirando la información de la columna, está claro que algunas características son numéricas. “Elevation” es una elevación en metros; \"Slope” se mide en grados. Sin embargo, \"Wilderness_Area\" es algo diferente, porque se dice que abarca cuatro columnas, cada una de las cuales es un 0 o 1. En realidad, \"Wilderness_Area\" es un valor categórico, no numérico."
   ]
  },
  {
   "cell_type": "markdown",
   "id": "considered-finder",
   "metadata": {},
   "source": [
    "Estas cuatro columnas son en realidad una codificación one-hot o 1-of-n. Cuando esta forma de codificación se realiza en una característica categórica, una característica categórica que toma N valores distintos se convierte en N características numéricas, cada una de las cuales toma el valor 0 o 1. Exactamente uno de los N valores tiene el valor 1, y los otros son 0. \n",
    "\n",
    "También vemos que la variable target \"Cover_Type\" es un valor categorico *encoded* con valores de 1 al 7."
   ]
  },
  {
   "cell_type": "markdown",
   "id": "other-oklahoma",
   "metadata": {},
   "source": [
    "Primeramente, separaremos los datos en train i test para así poder más tarde poder predecir un label del conjunto de datos. Limpiaremos sobre el conjunto de entrenamiento."
   ]
  },
  {
   "cell_type": "code",
   "execution_count": 6,
   "id": "71be47e6",
   "metadata": {},
   "outputs": [
    {
     "data": {
      "text/plain": [
       "DataFrame[Elevation: int, Aspect: int, Slope: int, Horizontal_Distance_To_Hydrology: int, Vertical_Distance_To_Hydrology: int, Horizontal_Distance_To_Roadways: int, Hillshade_9am: int, Hillshade_Noon: int, Hillshade_3pm: int, Horizontal_Distance_To_Fire_Points: int, Wilderness_Area1: int, Wilderness_Area2: int, Wilderness_Area3: int, Wilderness_Area4: int, Soil_Type1: int, Soil_Type2: int, Soil_Type3: int, Soil_Type4: int, Soil_Type5: int, Soil_Type6: int, Soil_Type7: int, Soil_Type8: int, Soil_Type9: int, Soil_Type10: int, Soil_Type11: int, Soil_Type12: int, Soil_Type13: int, Soil_Type14: int, Soil_Type15: int, Soil_Type16: int, Soil_Type17: int, Soil_Type18: int, Soil_Type19: int, Soil_Type20: int, Soil_Type21: int, Soil_Type22: int, Soil_Type23: int, Soil_Type24: int, Soil_Type25: int, Soil_Type26: int, Soil_Type27: int, Soil_Type28: int, Soil_Type29: int, Soil_Type30: int, Soil_Type31: int, Soil_Type32: int, Soil_Type33: int, Soil_Type34: int, Soil_Type35: int, Soil_Type36: int, Soil_Type37: int, Soil_Type38: int, Soil_Type39: int, Soil_Type40: int, Cover_Type: int]"
      ]
     },
     "execution_count": 6,
     "metadata": {},
     "output_type": "execute_result"
    }
   ],
   "source": [
    "seed = 6\n",
    "(train, test) = data.randomSplit([0.9 ,0.1], seed = seed)\n",
    "train.cache()\n",
    "test.cache()"
   ]
  },
  {
   "cell_type": "markdown",
   "id": "geological-staff",
   "metadata": {},
   "source": [
    "En el conjunto de test eliminaremos el label \"Cover_Type\" para así poder predecirlo posteriormente en la sección de Model Training."
   ]
  },
  {
   "cell_type": "code",
   "execution_count": 8,
   "id": "bd4a9d89",
   "metadata": {},
   "outputs": [
    {
     "name": "stdout",
     "output_type": "stream",
     "text": [
      "+-------+------------------+\n",
      "|summary|        Cover_Type|\n",
      "+-------+------------------+\n",
      "|  count|            577231|\n",
      "|   mean|2.0387089397485583|\n",
      "| stddev|1.3826702738435552|\n",
      "|    min|                 1|\n",
      "|    max|                 7|\n",
      "+-------+------------------+\n",
      "\n"
     ]
    }
   ],
   "source": [
    "test = test.drop(\"Cover_Type\") # variable to predict\n",
    "data.select(\"Cover_Type\").describe().show()"
   ]
  },
  {
   "cell_type": "markdown",
   "id": "fitting-delight",
   "metadata": {},
   "source": [
    "Para poder limpiar los datos, primero debemos saber si en nuestro archivo existen valores NaN. El primer paso para la limpieza del dataset suele ser eliminar estos valores o substituirlos (por la media, valor por defecto, etc). Para poder hacer esta limpieza de forma senzilla, trabajaremos con PandasDataframes."
   ]
  },
  {
   "cell_type": "code",
   "execution_count": 7,
   "id": "equal-edmonton",
   "metadata": {},
   "outputs": [
    {
     "name": "stdout",
     "output_type": "stream",
     "text": [
      "(519715, 55)\n"
     ]
    }
   ],
   "source": [
    "train_pd = train.toPandas()\n",
    "test_pd = test.toPandas()\n",
    "print(train_pd.shape)"
   ]
  },
  {
   "cell_type": "code",
   "execution_count": 9,
   "id": "respective-ethiopia",
   "metadata": {},
   "outputs": [
    {
     "name": "stdout",
     "output_type": "stream",
     "text": [
      "Existen valores nulos en el CSV: False\n"
     ]
    }
   ],
   "source": [
    "print(f\"Existen valores nulos en el CSV: {train_pd.isnull().values.any()}\")"
   ]
  },
  {
   "cell_type": "markdown",
   "id": "metropolitan-guide",
   "metadata": {},
   "source": [
    "En esta primera exploración para la limpieza del dataset, vemos que no existen valores nulos en este. Podemos asegurarnos de otra manera:"
   ]
  },
  {
   "cell_type": "code",
   "execution_count": 10,
   "id": "classical-uruguay",
   "metadata": {},
   "outputs": [
    {
     "name": "stdout",
     "output_type": "stream",
     "text": [
      "Total de atributos con valor NaN: 0\n"
     ]
    }
   ],
   "source": [
    "print(f\"Total de atributos con valor NaN: {train_pd.isnull().sum().sum()}\")"
   ]
  },
  {
   "cell_type": "markdown",
   "id": "reasonable-polish",
   "metadata": {},
   "source": [
    "Ahora utilizaremos ScatterPlots, ya que son una excelente fuente de información a la hora de limpiar los datos. Probaremos con algunas variables."
   ]
  },
  {
   "cell_type": "code",
   "execution_count": 11,
   "id": "increased-overview",
   "metadata": {},
   "outputs": [
    {
     "data": {
      "text/plain": [
       "<AxesSubplot:xlabel='Hillshade_3pm', ylabel='Hillshade_Noon'>"
      ]
     },
     "execution_count": 11,
     "metadata": {},
     "output_type": "execute_result"
    },
    {
     "data": {
      "image/png": "[encoded data removed]",
      "text/plain": [
       "<Figure size 432x288 with 1 Axes>"
      ]
     },
     "metadata": {
      "needs_background": "light"
     },
     "output_type": "display_data"
    }
   ],
   "source": [
    "train_pd.plot.scatter(x=\"Hillshade_3pm\", y = \"Hillshade_Noon\")"
   ]
  },
  {
   "cell_type": "markdown",
   "id": "medium-backup",
   "metadata": {},
   "source": [
    "Vemos que tenemos algunos outliers. Todo esto lo corregiremos más tarde. También podemos visualizar las distribuciones que siguen las variables (histogramas, boxplot), que nos pueden ayudar a la hora de limpiar los datos."
   ]
  },
  {
   "cell_type": "markdown",
   "id": "animated-equality",
   "metadata": {},
   "source": [
    "A continuación podremos observar unas cuantas observaciones de nuestro dataset para así hacernos una idea previa de este."
   ]
  },
  {
   "cell_type": "code",
   "execution_count": 12,
   "id": "538c7c18",
   "metadata": {},
   "outputs": [
    {
     "data": {
      "text/html": [
       "<div>\n",
       "<style scoped>\n",
       "    .dataframe tbody tr th:only-of-type {\n",
       "        vertical-align: middle;\n",
       "    }\n",
       "\n",
       "    .dataframe tbody tr th {\n",
       "        vertical-align: top;\n",
       "    }\n",
       "\n",
       "    .dataframe thead th {\n",
       "        text-align: right;\n",
       "    }\n",
       "</style>\n",
       "<table border=\"1\" class=\"dataframe\">\n",
       "  <thead>\n",
       "    <tr style=\"text-align: right;\">\n",
       "      <th></th>\n",
       "      <th>Elevation</th>\n",
       "      <th>Aspect</th>\n",
       "      <th>Slope</th>\n",
       "      <th>Horizontal_Distance_To_Hydrology</th>\n",
       "      <th>Vertical_Distance_To_Hydrology</th>\n",
       "      <th>Horizontal_Distance_To_Roadways</th>\n",
       "      <th>Hillshade_9am</th>\n",
       "      <th>Hillshade_Noon</th>\n",
       "      <th>Hillshade_3pm</th>\n",
       "      <th>Horizontal_Distance_To_Fire_Points</th>\n",
       "      <th>...</th>\n",
       "      <th>Soil_Type32</th>\n",
       "      <th>Soil_Type33</th>\n",
       "      <th>Soil_Type34</th>\n",
       "      <th>Soil_Type35</th>\n",
       "      <th>Soil_Type36</th>\n",
       "      <th>Soil_Type37</th>\n",
       "      <th>Soil_Type38</th>\n",
       "      <th>Soil_Type39</th>\n",
       "      <th>Soil_Type40</th>\n",
       "      <th>Cover_Type</th>\n",
       "    </tr>\n",
       "  </thead>\n",
       "  <tbody>\n",
       "    <tr>\n",
       "      <th>0</th>\n",
       "      <td>1863</td>\n",
       "      <td>37</td>\n",
       "      <td>17</td>\n",
       "      <td>120</td>\n",
       "      <td>18</td>\n",
       "      <td>90</td>\n",
       "      <td>217</td>\n",
       "      <td>202</td>\n",
       "      <td>115</td>\n",
       "      <td>769</td>\n",
       "      <td>...</td>\n",
       "      <td>0</td>\n",
       "      <td>0</td>\n",
       "      <td>0</td>\n",
       "      <td>0</td>\n",
       "      <td>0</td>\n",
       "      <td>0</td>\n",
       "      <td>0</td>\n",
       "      <td>0</td>\n",
       "      <td>0</td>\n",
       "      <td>6</td>\n",
       "    </tr>\n",
       "    <tr>\n",
       "      <th>1</th>\n",
       "      <td>1874</td>\n",
       "      <td>18</td>\n",
       "      <td>14</td>\n",
       "      <td>0</td>\n",
       "      <td>0</td>\n",
       "      <td>90</td>\n",
       "      <td>208</td>\n",
       "      <td>209</td>\n",
       "      <td>135</td>\n",
       "      <td>793</td>\n",
       "      <td>...</td>\n",
       "      <td>0</td>\n",
       "      <td>0</td>\n",
       "      <td>0</td>\n",
       "      <td>0</td>\n",
       "      <td>0</td>\n",
       "      <td>0</td>\n",
       "      <td>0</td>\n",
       "      <td>0</td>\n",
       "      <td>0</td>\n",
       "      <td>6</td>\n",
       "    </tr>\n",
       "    <tr>\n",
       "      <th>2</th>\n",
       "      <td>1879</td>\n",
       "      <td>28</td>\n",
       "      <td>19</td>\n",
       "      <td>30</td>\n",
       "      <td>12</td>\n",
       "      <td>95</td>\n",
       "      <td>209</td>\n",
       "      <td>196</td>\n",
       "      <td>117</td>\n",
       "      <td>778</td>\n",
       "      <td>...</td>\n",
       "      <td>0</td>\n",
       "      <td>0</td>\n",
       "      <td>0</td>\n",
       "      <td>0</td>\n",
       "      <td>0</td>\n",
       "      <td>0</td>\n",
       "      <td>0</td>\n",
       "      <td>0</td>\n",
       "      <td>0</td>\n",
       "      <td>6</td>\n",
       "    </tr>\n",
       "    <tr>\n",
       "      <th>3</th>\n",
       "      <td>1896</td>\n",
       "      <td>337</td>\n",
       "      <td>12</td>\n",
       "      <td>30</td>\n",
       "      <td>6</td>\n",
       "      <td>175</td>\n",
       "      <td>195</td>\n",
       "      <td>224</td>\n",
       "      <td>168</td>\n",
       "      <td>732</td>\n",
       "      <td>...</td>\n",
       "      <td>0</td>\n",
       "      <td>0</td>\n",
       "      <td>0</td>\n",
       "      <td>0</td>\n",
       "      <td>0</td>\n",
       "      <td>0</td>\n",
       "      <td>0</td>\n",
       "      <td>0</td>\n",
       "      <td>0</td>\n",
       "      <td>6</td>\n",
       "    </tr>\n",
       "    <tr>\n",
       "      <th>4</th>\n",
       "      <td>1898</td>\n",
       "      <td>34</td>\n",
       "      <td>23</td>\n",
       "      <td>175</td>\n",
       "      <td>56</td>\n",
       "      <td>134</td>\n",
       "      <td>210</td>\n",
       "      <td>184</td>\n",
       "      <td>99</td>\n",
       "      <td>765</td>\n",
       "      <td>...</td>\n",
       "      <td>0</td>\n",
       "      <td>0</td>\n",
       "      <td>0</td>\n",
       "      <td>0</td>\n",
       "      <td>0</td>\n",
       "      <td>0</td>\n",
       "      <td>0</td>\n",
       "      <td>0</td>\n",
       "      <td>0</td>\n",
       "      <td>6</td>\n",
       "    </tr>\n",
       "  </tbody>\n",
       "</table>\n",
       "<p>5 rows × 55 columns</p>\n",
       "</div>"
      ],
      "text/plain": [
       "   Elevation  Aspect  Slope  Horizontal_Distance_To_Hydrology  \\\n",
       "0       1863      37     17                               120   \n",
       "1       1874      18     14                                 0   \n",
       "2       1879      28     19                                30   \n",
       "3       1896     337     12                                30   \n",
       "4       1898      34     23                               175   \n",
       "\n",
       "   Vertical_Distance_To_Hydrology  Horizontal_Distance_To_Roadways  \\\n",
       "0                              18                               90   \n",
       "1                               0                               90   \n",
       "2                              12                               95   \n",
       "3                               6                              175   \n",
       "4                              56                              134   \n",
       "\n",
       "   Hillshade_9am  Hillshade_Noon  Hillshade_3pm  \\\n",
       "0            217             202            115   \n",
       "1            208             209            135   \n",
       "2            209             196            117   \n",
       "3            195             224            168   \n",
       "4            210             184             99   \n",
       "\n",
       "   Horizontal_Distance_To_Fire_Points  ...  Soil_Type32  Soil_Type33  \\\n",
       "0                                 769  ...            0            0   \n",
       "1                                 793  ...            0            0   \n",
       "2                                 778  ...            0            0   \n",
       "3                                 732  ...            0            0   \n",
       "4                                 765  ...            0            0   \n",
       "\n",
       "   Soil_Type34  Soil_Type35  Soil_Type36  Soil_Type37  Soil_Type38  \\\n",
       "0            0            0            0            0            0   \n",
       "1            0            0            0            0            0   \n",
       "2            0            0            0            0            0   \n",
       "3            0            0            0            0            0   \n",
       "4            0            0            0            0            0   \n",
       "\n",
       "   Soil_Type39  Soil_Type40  Cover_Type  \n",
       "0            0            0           6  \n",
       "1            0            0           6  \n",
       "2            0            0           6  \n",
       "3            0            0           6  \n",
       "4            0            0           6  \n",
       "\n",
       "[5 rows x 55 columns]"
      ]
     },
     "execution_count": 12,
     "metadata": {},
     "output_type": "execute_result"
    }
   ],
   "source": [
    "train_pd.head()"
   ]
  },
  {
   "cell_type": "markdown",
   "id": "understanding-drain",
   "metadata": {},
   "source": [
    "Nuestra variable target es \"Cover_Type\", por lo tanto, es interesante ver su distribución. Primero la veremos en forma númerica y luego la podremos gráficar."
   ]
  },
  {
   "cell_type": "markdown",
   "id": "fifty-saint",
   "metadata": {},
   "source": [
    "En el siguiente código/gráfico podremos observar la distribución de los valores de dentro de nuestro target \"Cover_Type\"."
   ]
  },
  {
   "cell_type": "code",
   "execution_count": 13,
   "id": "81b78b20",
   "metadata": {},
   "outputs": [
    {
     "name": "stdout",
     "output_type": "stream",
     "text": [
      "2    254741\n",
      "1    190123\n",
      "3     31787\n",
      "7     17958\n",
      "6     15086\n",
      "5      8042\n",
      "4      1978\n",
      "Name: Cover_Type, dtype: int64\n"
     ]
    }
   ],
   "source": [
    "print(train_pd[\"Cover_Type\"].value_counts())"
   ]
  },
  {
   "cell_type": "markdown",
   "id": "center-mason",
   "metadata": {},
   "source": [
    "Ahora vamos a graficarla. Vemos que la mayoria de valores estan entre el 1 y el 2."
   ]
  },
  {
   "cell_type": "code",
   "execution_count": 14,
   "id": "76609652",
   "metadata": {},
   "outputs": [
    {
     "data": {
      "image/png": "[encoded data removed]",
      "text/plain": [
       "<Figure size 1080x720 with 1 Axes>"
      ]
     },
     "metadata": {
      "needs_background": "light"
     },
     "output_type": "display_data"
    }
   ],
   "source": [
    "plt.figure(figsize=(15,10))\n",
    "color = iter(plt.cm.tab10(np.linspace(0, 1, 7)))\n",
    "\n",
    "for index in range(1,8):\n",
    "    plt.hist(train_pd.loc[train_pd[\"Cover_Type\"] == index, \"Cover_Type\"], label = \"Type \" + str(index), bins = np.arange(1,9)-0.5, alpha = .75, color = next(color))\n",
    "    \n",
    "plt.tight_layout()\n",
    "plt.show()"
   ]
  },
  {
   "cell_type": "markdown",
   "id": "excessive-photography",
   "metadata": {},
   "source": [
    "Observamos que obtenemos muchos valores asignados al label 2 y 1. Despues de mayor a menor 3, 7, 6, 5 y finalmente 4 donde obtenemos muy pocos en comparación con el resto."
   ]
  },
  {
   "cell_type": "markdown",
   "id": "silver-arrangement",
   "metadata": {},
   "source": [
    "Acabamos de comprobar que en todo el dataset de train no hay ningun valor nulo. Por lo tanto no se ha de hacer ninguna limpieza en este sentido en este. Los outliers se trataran más adelante."
   ]
  },
  {
   "cell_type": "markdown",
   "id": "precise-signal",
   "metadata": {},
   "source": [
    "---\n",
    "### EDA"
   ]
  },
  {
   "cell_type": "markdown",
   "id": "adjacent-reservoir",
   "metadata": {},
   "source": [
    "Empezaremos con la exploracion de datos viendo el tipo de estos. Más adelante, aportaremos graficas que nos ayudaran a sacar información sobre los datos."
   ]
  },
  {
   "cell_type": "code",
   "execution_count": 15,
   "id": "d8bbc296",
   "metadata": {},
   "outputs": [
    {
     "name": "stdout",
     "output_type": "stream",
     "text": [
      "Columns overview\n"
     ]
    },
    {
     "data": {
      "text/html": [
       "<div>\n",
       "<style scoped>\n",
       "    .dataframe tbody tr th:only-of-type {\n",
       "        vertical-align: middle;\n",
       "    }\n",
       "\n",
       "    .dataframe tbody tr th {\n",
       "        vertical-align: top;\n",
       "    }\n",
       "\n",
       "    .dataframe thead th {\n",
       "        text-align: right;\n",
       "    }\n",
       "</style>\n",
       "<table border=\"1\" class=\"dataframe\">\n",
       "  <thead>\n",
       "    <tr style=\"text-align: right;\">\n",
       "      <th></th>\n",
       "      <th>Data type</th>\n",
       "    </tr>\n",
       "  </thead>\n",
       "  <tbody>\n",
       "    <tr>\n",
       "      <th>Elevation</th>\n",
       "      <td>int32</td>\n",
       "    </tr>\n",
       "    <tr>\n",
       "      <th>Aspect</th>\n",
       "      <td>int32</td>\n",
       "    </tr>\n",
       "    <tr>\n",
       "      <th>Slope</th>\n",
       "      <td>int32</td>\n",
       "    </tr>\n",
       "    <tr>\n",
       "      <th>Horizontal_Distance_To_Hydrology</th>\n",
       "      <td>int32</td>\n",
       "    </tr>\n",
       "    <tr>\n",
       "      <th>Vertical_Distance_To_Hydrology</th>\n",
       "      <td>int32</td>\n",
       "    </tr>\n",
       "    <tr>\n",
       "      <th>Horizontal_Distance_To_Roadways</th>\n",
       "      <td>int32</td>\n",
       "    </tr>\n",
       "    <tr>\n",
       "      <th>Hillshade_9am</th>\n",
       "      <td>int32</td>\n",
       "    </tr>\n",
       "    <tr>\n",
       "      <th>Hillshade_Noon</th>\n",
       "      <td>int32</td>\n",
       "    </tr>\n",
       "    <tr>\n",
       "      <th>Hillshade_3pm</th>\n",
       "      <td>int32</td>\n",
       "    </tr>\n",
       "    <tr>\n",
       "      <th>Horizontal_Distance_To_Fire_Points</th>\n",
       "      <td>int32</td>\n",
       "    </tr>\n",
       "    <tr>\n",
       "      <th>Wilderness_Area1</th>\n",
       "      <td>int32</td>\n",
       "    </tr>\n",
       "    <tr>\n",
       "      <th>Wilderness_Area2</th>\n",
       "      <td>int32</td>\n",
       "    </tr>\n",
       "    <tr>\n",
       "      <th>Wilderness_Area3</th>\n",
       "      <td>int32</td>\n",
       "    </tr>\n",
       "    <tr>\n",
       "      <th>Wilderness_Area4</th>\n",
       "      <td>int32</td>\n",
       "    </tr>\n",
       "    <tr>\n",
       "      <th>Soil_Type1</th>\n",
       "      <td>int32</td>\n",
       "    </tr>\n",
       "    <tr>\n",
       "      <th>Soil_Type2</th>\n",
       "      <td>int32</td>\n",
       "    </tr>\n",
       "    <tr>\n",
       "      <th>Soil_Type3</th>\n",
       "      <td>int32</td>\n",
       "    </tr>\n",
       "    <tr>\n",
       "      <th>Soil_Type4</th>\n",
       "      <td>int32</td>\n",
       "    </tr>\n",
       "    <tr>\n",
       "      <th>Soil_Type5</th>\n",
       "      <td>int32</td>\n",
       "    </tr>\n",
       "    <tr>\n",
       "      <th>Soil_Type6</th>\n",
       "      <td>int32</td>\n",
       "    </tr>\n",
       "    <tr>\n",
       "      <th>Soil_Type7</th>\n",
       "      <td>int32</td>\n",
       "    </tr>\n",
       "    <tr>\n",
       "      <th>Soil_Type8</th>\n",
       "      <td>int32</td>\n",
       "    </tr>\n",
       "    <tr>\n",
       "      <th>Soil_Type9</th>\n",
       "      <td>int32</td>\n",
       "    </tr>\n",
       "    <tr>\n",
       "      <th>Soil_Type10</th>\n",
       "      <td>int32</td>\n",
       "    </tr>\n",
       "    <tr>\n",
       "      <th>Soil_Type11</th>\n",
       "      <td>int32</td>\n",
       "    </tr>\n",
       "    <tr>\n",
       "      <th>Soil_Type12</th>\n",
       "      <td>int32</td>\n",
       "    </tr>\n",
       "    <tr>\n",
       "      <th>Soil_Type13</th>\n",
       "      <td>int32</td>\n",
       "    </tr>\n",
       "    <tr>\n",
       "      <th>Soil_Type14</th>\n",
       "      <td>int32</td>\n",
       "    </tr>\n",
       "    <tr>\n",
       "      <th>Soil_Type15</th>\n",
       "      <td>int32</td>\n",
       "    </tr>\n",
       "    <tr>\n",
       "      <th>Soil_Type16</th>\n",
       "      <td>int32</td>\n",
       "    </tr>\n",
       "    <tr>\n",
       "      <th>Soil_Type17</th>\n",
       "      <td>int32</td>\n",
       "    </tr>\n",
       "    <tr>\n",
       "      <th>Soil_Type18</th>\n",
       "      <td>int32</td>\n",
       "    </tr>\n",
       "    <tr>\n",
       "      <th>Soil_Type19</th>\n",
       "      <td>int32</td>\n",
       "    </tr>\n",
       "    <tr>\n",
       "      <th>Soil_Type20</th>\n",
       "      <td>int32</td>\n",
       "    </tr>\n",
       "    <tr>\n",
       "      <th>Soil_Type21</th>\n",
       "      <td>int32</td>\n",
       "    </tr>\n",
       "    <tr>\n",
       "      <th>Soil_Type22</th>\n",
       "      <td>int32</td>\n",
       "    </tr>\n",
       "    <tr>\n",
       "      <th>Soil_Type23</th>\n",
       "      <td>int32</td>\n",
       "    </tr>\n",
       "    <tr>\n",
       "      <th>Soil_Type24</th>\n",
       "      <td>int32</td>\n",
       "    </tr>\n",
       "    <tr>\n",
       "      <th>Soil_Type25</th>\n",
       "      <td>int32</td>\n",
       "    </tr>\n",
       "    <tr>\n",
       "      <th>Soil_Type26</th>\n",
       "      <td>int32</td>\n",
       "    </tr>\n",
       "    <tr>\n",
       "      <th>Soil_Type27</th>\n",
       "      <td>int32</td>\n",
       "    </tr>\n",
       "    <tr>\n",
       "      <th>Soil_Type28</th>\n",
       "      <td>int32</td>\n",
       "    </tr>\n",
       "    <tr>\n",
       "      <th>Soil_Type29</th>\n",
       "      <td>int32</td>\n",
       "    </tr>\n",
       "    <tr>\n",
       "      <th>Soil_Type30</th>\n",
       "      <td>int32</td>\n",
       "    </tr>\n",
       "    <tr>\n",
       "      <th>Soil_Type31</th>\n",
       "      <td>int32</td>\n",
       "    </tr>\n",
       "    <tr>\n",
       "      <th>Soil_Type32</th>\n",
       "      <td>int32</td>\n",
       "    </tr>\n",
       "    <tr>\n",
       "      <th>Soil_Type33</th>\n",
       "      <td>int32</td>\n",
       "    </tr>\n",
       "    <tr>\n",
       "      <th>Soil_Type34</th>\n",
       "      <td>int32</td>\n",
       "    </tr>\n",
       "    <tr>\n",
       "      <th>Soil_Type35</th>\n",
       "      <td>int32</td>\n",
       "    </tr>\n",
       "    <tr>\n",
       "      <th>Soil_Type36</th>\n",
       "      <td>int32</td>\n",
       "    </tr>\n",
       "    <tr>\n",
       "      <th>Soil_Type37</th>\n",
       "      <td>int32</td>\n",
       "    </tr>\n",
       "    <tr>\n",
       "      <th>Soil_Type38</th>\n",
       "      <td>int32</td>\n",
       "    </tr>\n",
       "    <tr>\n",
       "      <th>Soil_Type39</th>\n",
       "      <td>int32</td>\n",
       "    </tr>\n",
       "    <tr>\n",
       "      <th>Soil_Type40</th>\n",
       "      <td>int32</td>\n",
       "    </tr>\n",
       "    <tr>\n",
       "      <th>Cover_Type</th>\n",
       "      <td>int32</td>\n",
       "    </tr>\n",
       "  </tbody>\n",
       "</table>\n",
       "</div>"
      ],
      "text/plain": [
       "                                   Data type\n",
       "Elevation                              int32\n",
       "Aspect                                 int32\n",
       "Slope                                  int32\n",
       "Horizontal_Distance_To_Hydrology       int32\n",
       "Vertical_Distance_To_Hydrology         int32\n",
       "Horizontal_Distance_To_Roadways        int32\n",
       "Hillshade_9am                          int32\n",
       "Hillshade_Noon                         int32\n",
       "Hillshade_3pm                          int32\n",
       "Horizontal_Distance_To_Fire_Points     int32\n",
       "Wilderness_Area1                       int32\n",
       "Wilderness_Area2                       int32\n",
       "Wilderness_Area3                       int32\n",
       "Wilderness_Area4                       int32\n",
       "Soil_Type1                             int32\n",
       "Soil_Type2                             int32\n",
       "Soil_Type3                             int32\n",
       "Soil_Type4                             int32\n",
       "Soil_Type5                             int32\n",
       "Soil_Type6                             int32\n",
       "Soil_Type7                             int32\n",
       "Soil_Type8                             int32\n",
       "Soil_Type9                             int32\n",
       "Soil_Type10                            int32\n",
       "Soil_Type11                            int32\n",
       "Soil_Type12                            int32\n",
       "Soil_Type13                            int32\n",
       "Soil_Type14                            int32\n",
       "Soil_Type15                            int32\n",
       "Soil_Type16                            int32\n",
       "Soil_Type17                            int32\n",
       "Soil_Type18                            int32\n",
       "Soil_Type19                            int32\n",
       "Soil_Type20                            int32\n",
       "Soil_Type21                            int32\n",
       "Soil_Type22                            int32\n",
       "Soil_Type23                            int32\n",
       "Soil_Type24                            int32\n",
       "Soil_Type25                            int32\n",
       "Soil_Type26                            int32\n",
       "Soil_Type27                            int32\n",
       "Soil_Type28                            int32\n",
       "Soil_Type29                            int32\n",
       "Soil_Type30                            int32\n",
       "Soil_Type31                            int32\n",
       "Soil_Type32                            int32\n",
       "Soil_Type33                            int32\n",
       "Soil_Type34                            int32\n",
       "Soil_Type35                            int32\n",
       "Soil_Type36                            int32\n",
       "Soil_Type37                            int32\n",
       "Soil_Type38                            int32\n",
       "Soil_Type39                            int32\n",
       "Soil_Type40                            int32\n",
       "Cover_Type                             int32"
      ]
     },
     "execution_count": 15,
     "metadata": {},
     "output_type": "execute_result"
    }
   ],
   "source": [
    "print('Columns overview')\n",
    "pd.DataFrame(train_pd.dtypes, columns = ['Data type'])"
   ]
  },
  {
   "cell_type": "markdown",
   "id": "numerous-lunch",
   "metadata": {},
   "source": [
    "Vemos que todos los datos son numericos (int32)."
   ]
  },
  {
   "cell_type": "code",
   "execution_count": 16,
   "id": "convertible-focus",
   "metadata": {},
   "outputs": [
    {
     "name": "stdout",
     "output_type": "stream",
     "text": [
      "Número total de 1 en Wilderness_AreaX 519715\n"
     ]
    }
   ],
   "source": [
    "wild_cols = [f\"Wilderness_Area{i}\" for i in range(1,5)]\n",
    "print(\"Número total de 1 en Wilderness_AreaX\", train_pd[wild_cols].sum().sum())"
   ]
  },
  {
   "cell_type": "code",
   "execution_count": 17,
   "id": "amazing-twenty",
   "metadata": {},
   "outputs": [
    {
     "name": "stdout",
     "output_type": "stream",
     "text": [
      "Número total de 1 en Soil_TypeX 519715\n"
     ]
    }
   ],
   "source": [
    "soil_cols = [f\"Soil_Type{i}\" for i in range(1,41)]\n",
    "print(\"Número total de 1 en Soil_TypeX\", train_pd[soil_cols].sum().sum())"
   ]
  },
  {
   "cell_type": "markdown",
   "id": "reasonable-family",
   "metadata": {},
   "source": [
    "Vamos a separar aquellas columnas **continuas** de aquellas **discretas**. Luego vamos a utilizar el método *describe* para describir diferentes medidas estadísticas sobre estas columnas."
   ]
  },
  {
   "cell_type": "code",
   "execution_count": 18,
   "id": "removed-monte",
   "metadata": {},
   "outputs": [],
   "source": [
    "all_cols = list(train_pd.columns)\n",
    "label_cols = [\"Cover_Type\"]\n",
    "\n",
    "discrete_cols= wild_cols + soil_cols + label_cols\n",
    "continous_cols = [x for x in all_cols if x not in discrete_cols]"
   ]
  },
  {
   "cell_type": "code",
   "execution_count": 19,
   "id": "sonic-police",
   "metadata": {},
   "outputs": [
    {
     "data": {
      "text/html": [
       "<div>\n",
       "<style scoped>\n",
       "    .dataframe tbody tr th:only-of-type {\n",
       "        vertical-align: middle;\n",
       "    }\n",
       "\n",
       "    .dataframe tbody tr th {\n",
       "        vertical-align: top;\n",
       "    }\n",
       "\n",
       "    .dataframe thead th {\n",
       "        text-align: right;\n",
       "    }\n",
       "</style>\n",
       "<table border=\"1\" class=\"dataframe\">\n",
       "  <thead>\n",
       "    <tr style=\"text-align: right;\">\n",
       "      <th></th>\n",
       "      <th>Elevation</th>\n",
       "      <th>Aspect</th>\n",
       "      <th>Slope</th>\n",
       "      <th>Horizontal_Distance_To_Hydrology</th>\n",
       "      <th>Vertical_Distance_To_Hydrology</th>\n",
       "      <th>Horizontal_Distance_To_Roadways</th>\n",
       "      <th>Hillshade_9am</th>\n",
       "      <th>Hillshade_Noon</th>\n",
       "      <th>Hillshade_3pm</th>\n",
       "      <th>Horizontal_Distance_To_Fire_Points</th>\n",
       "    </tr>\n",
       "  </thead>\n",
       "  <tbody>\n",
       "    <tr>\n",
       "      <th>count</th>\n",
       "      <td>519715.000000</td>\n",
       "      <td>519715.000000</td>\n",
       "      <td>519715.000000</td>\n",
       "      <td>519715.000000</td>\n",
       "      <td>519715.000000</td>\n",
       "      <td>519715.000000</td>\n",
       "      <td>519715.000000</td>\n",
       "      <td>519715.000000</td>\n",
       "      <td>519715.000000</td>\n",
       "      <td>519715.000000</td>\n",
       "    </tr>\n",
       "    <tr>\n",
       "      <th>mean</th>\n",
       "      <td>2960.758847</td>\n",
       "      <td>155.616340</td>\n",
       "      <td>14.087829</td>\n",
       "      <td>269.686732</td>\n",
       "      <td>46.400533</td>\n",
       "      <td>2353.702437</td>\n",
       "      <td>212.140858</td>\n",
       "      <td>223.335901</td>\n",
       "      <td>142.567082</td>\n",
       "      <td>1983.360122</td>\n",
       "    </tr>\n",
       "    <tr>\n",
       "      <th>std</th>\n",
       "      <td>278.237836</td>\n",
       "      <td>111.940642</td>\n",
       "      <td>7.481346</td>\n",
       "      <td>212.437843</td>\n",
       "      <td>58.264399</td>\n",
       "      <td>1559.489423</td>\n",
       "      <td>26.753102</td>\n",
       "      <td>19.748484</td>\n",
       "      <td>38.214587</td>\n",
       "      <td>1325.576759</td>\n",
       "    </tr>\n",
       "    <tr>\n",
       "      <th>min</th>\n",
       "      <td>1859.000000</td>\n",
       "      <td>0.000000</td>\n",
       "      <td>0.000000</td>\n",
       "      <td>0.000000</td>\n",
       "      <td>-173.000000</td>\n",
       "      <td>0.000000</td>\n",
       "      <td>0.000000</td>\n",
       "      <td>0.000000</td>\n",
       "      <td>0.000000</td>\n",
       "      <td>0.000000</td>\n",
       "    </tr>\n",
       "    <tr>\n",
       "      <th>25%</th>\n",
       "      <td>2811.000000</td>\n",
       "      <td>58.000000</td>\n",
       "      <td>9.000000</td>\n",
       "      <td>108.000000</td>\n",
       "      <td>7.000000</td>\n",
       "      <td>1107.000000</td>\n",
       "      <td>198.000000</td>\n",
       "      <td>213.000000</td>\n",
       "      <td>119.000000</td>\n",
       "      <td>1025.000000</td>\n",
       "    </tr>\n",
       "    <tr>\n",
       "      <th>50%</th>\n",
       "      <td>2997.000000</td>\n",
       "      <td>127.000000</td>\n",
       "      <td>13.000000</td>\n",
       "      <td>218.000000</td>\n",
       "      <td>30.000000</td>\n",
       "      <td>2002.000000</td>\n",
       "      <td>218.000000</td>\n",
       "      <td>226.000000</td>\n",
       "      <td>143.000000</td>\n",
       "      <td>1712.000000</td>\n",
       "    </tr>\n",
       "    <tr>\n",
       "      <th>75%</th>\n",
       "      <td>3164.000000</td>\n",
       "      <td>261.000000</td>\n",
       "      <td>18.000000</td>\n",
       "      <td>384.000000</td>\n",
       "      <td>69.000000</td>\n",
       "      <td>3331.000000</td>\n",
       "      <td>231.000000</td>\n",
       "      <td>237.000000</td>\n",
       "      <td>168.000000</td>\n",
       "      <td>2552.000000</td>\n",
       "    </tr>\n",
       "    <tr>\n",
       "      <th>max</th>\n",
       "      <td>3858.000000</td>\n",
       "      <td>360.000000</td>\n",
       "      <td>66.000000</td>\n",
       "      <td>1397.000000</td>\n",
       "      <td>601.000000</td>\n",
       "      <td>7117.000000</td>\n",
       "      <td>254.000000</td>\n",
       "      <td>254.000000</td>\n",
       "      <td>254.000000</td>\n",
       "      <td>7173.000000</td>\n",
       "    </tr>\n",
       "  </tbody>\n",
       "</table>\n",
       "</div>"
      ],
      "text/plain": [
       "           Elevation         Aspect          Slope  \\\n",
       "count  519715.000000  519715.000000  519715.000000   \n",
       "mean     2960.758847     155.616340      14.087829   \n",
       "std       278.237836     111.940642       7.481346   \n",
       "min      1859.000000       0.000000       0.000000   \n",
       "25%      2811.000000      58.000000       9.000000   \n",
       "50%      2997.000000     127.000000      13.000000   \n",
       "75%      3164.000000     261.000000      18.000000   \n",
       "max      3858.000000     360.000000      66.000000   \n",
       "\n",
       "       Horizontal_Distance_To_Hydrology  Vertical_Distance_To_Hydrology  \\\n",
       "count                     519715.000000                   519715.000000   \n",
       "mean                         269.686732                       46.400533   \n",
       "std                          212.437843                       58.264399   \n",
       "min                            0.000000                     -173.000000   \n",
       "25%                          108.000000                        7.000000   \n",
       "50%                          218.000000                       30.000000   \n",
       "75%                          384.000000                       69.000000   \n",
       "max                         1397.000000                      601.000000   \n",
       "\n",
       "       Horizontal_Distance_To_Roadways  Hillshade_9am  Hillshade_Noon  \\\n",
       "count                    519715.000000  519715.000000   519715.000000   \n",
       "mean                       2353.702437     212.140858      223.335901   \n",
       "std                        1559.489423      26.753102       19.748484   \n",
       "min                           0.000000       0.000000        0.000000   \n",
       "25%                        1107.000000     198.000000      213.000000   \n",
       "50%                        2002.000000     218.000000      226.000000   \n",
       "75%                        3331.000000     231.000000      237.000000   \n",
       "max                        7117.000000     254.000000      254.000000   \n",
       "\n",
       "       Hillshade_3pm  Horizontal_Distance_To_Fire_Points  \n",
       "count  519715.000000                       519715.000000  \n",
       "mean      142.567082                         1983.360122  \n",
       "std        38.214587                         1325.576759  \n",
       "min         0.000000                            0.000000  \n",
       "25%       119.000000                         1025.000000  \n",
       "50%       143.000000                         1712.000000  \n",
       "75%       168.000000                         2552.000000  \n",
       "max       254.000000                         7173.000000  "
      ]
     },
     "execution_count": 19,
     "metadata": {},
     "output_type": "execute_result"
    }
   ],
   "source": [
    "train_pd[continous_cols].describe()"
   ]
  },
  {
   "cell_type": "code",
   "execution_count": 20,
   "id": "pressing-calculation",
   "metadata": {},
   "outputs": [
    {
     "data": {
      "text/html": [
       "<div>\n",
       "<style scoped>\n",
       "    .dataframe tbody tr th:only-of-type {\n",
       "        vertical-align: middle;\n",
       "    }\n",
       "\n",
       "    .dataframe tbody tr th {\n",
       "        vertical-align: top;\n",
       "    }\n",
       "\n",
       "    .dataframe thead th {\n",
       "        text-align: right;\n",
       "    }\n",
       "</style>\n",
       "<table border=\"1\" class=\"dataframe\">\n",
       "  <thead>\n",
       "    <tr style=\"text-align: right;\">\n",
       "      <th></th>\n",
       "      <th>Wilderness_Area1</th>\n",
       "      <th>Wilderness_Area2</th>\n",
       "      <th>Wilderness_Area3</th>\n",
       "      <th>Wilderness_Area4</th>\n",
       "      <th>Soil_Type1</th>\n",
       "      <th>Soil_Type2</th>\n",
       "      <th>Soil_Type3</th>\n",
       "      <th>Soil_Type4</th>\n",
       "      <th>Soil_Type5</th>\n",
       "      <th>Soil_Type6</th>\n",
       "      <th>...</th>\n",
       "      <th>Soil_Type32</th>\n",
       "      <th>Soil_Type33</th>\n",
       "      <th>Soil_Type34</th>\n",
       "      <th>Soil_Type35</th>\n",
       "      <th>Soil_Type36</th>\n",
       "      <th>Soil_Type37</th>\n",
       "      <th>Soil_Type38</th>\n",
       "      <th>Soil_Type39</th>\n",
       "      <th>Soil_Type40</th>\n",
       "      <th>Cover_Type</th>\n",
       "    </tr>\n",
       "  </thead>\n",
       "  <tbody>\n",
       "    <tr>\n",
       "      <th>count</th>\n",
       "      <td>519715.000000</td>\n",
       "      <td>519715.000000</td>\n",
       "      <td>519715.000000</td>\n",
       "      <td>519715.000000</td>\n",
       "      <td>519715.000000</td>\n",
       "      <td>519715.000000</td>\n",
       "      <td>519715.000000</td>\n",
       "      <td>519715.000000</td>\n",
       "      <td>519715.000000</td>\n",
       "      <td>519715.000000</td>\n",
       "      <td>...</td>\n",
       "      <td>519715.000000</td>\n",
       "      <td>519715.000000</td>\n",
       "      <td>519715.000000</td>\n",
       "      <td>519715.000000</td>\n",
       "      <td>519715.000000</td>\n",
       "      <td>519715.000000</td>\n",
       "      <td>519715.000000</td>\n",
       "      <td>519715.000000</td>\n",
       "      <td>519715.000000</td>\n",
       "      <td>519715.000000</td>\n",
       "    </tr>\n",
       "    <tr>\n",
       "      <th>mean</th>\n",
       "      <td>0.450101</td>\n",
       "      <td>0.051703</td>\n",
       "      <td>0.436135</td>\n",
       "      <td>0.062061</td>\n",
       "      <td>0.005109</td>\n",
       "      <td>0.012795</td>\n",
       "      <td>0.007906</td>\n",
       "      <td>0.021071</td>\n",
       "      <td>0.002678</td>\n",
       "      <td>0.011154</td>\n",
       "      <td>...</td>\n",
       "      <td>0.090806</td>\n",
       "      <td>0.077885</td>\n",
       "      <td>0.002830</td>\n",
       "      <td>0.003231</td>\n",
       "      <td>0.000210</td>\n",
       "      <td>0.000491</td>\n",
       "      <td>0.026734</td>\n",
       "      <td>0.023653</td>\n",
       "      <td>0.014958</td>\n",
       "      <td>2.038252</td>\n",
       "    </tr>\n",
       "    <tr>\n",
       "      <th>std</th>\n",
       "      <td>0.497504</td>\n",
       "      <td>0.221428</td>\n",
       "      <td>0.495905</td>\n",
       "      <td>0.241266</td>\n",
       "      <td>0.071292</td>\n",
       "      <td>0.112391</td>\n",
       "      <td>0.088565</td>\n",
       "      <td>0.143622</td>\n",
       "      <td>0.051684</td>\n",
       "      <td>0.105023</td>\n",
       "      <td>...</td>\n",
       "      <td>0.287333</td>\n",
       "      <td>0.267991</td>\n",
       "      <td>0.053126</td>\n",
       "      <td>0.056747</td>\n",
       "      <td>0.014481</td>\n",
       "      <td>0.022145</td>\n",
       "      <td>0.161305</td>\n",
       "      <td>0.151967</td>\n",
       "      <td>0.121386</td>\n",
       "      <td>1.381409</td>\n",
       "    </tr>\n",
       "    <tr>\n",
       "      <th>min</th>\n",
       "      <td>0.000000</td>\n",
       "      <td>0.000000</td>\n",
       "      <td>0.000000</td>\n",
       "      <td>0.000000</td>\n",
       "      <td>0.000000</td>\n",
       "      <td>0.000000</td>\n",
       "      <td>0.000000</td>\n",
       "      <td>0.000000</td>\n",
       "      <td>0.000000</td>\n",
       "      <td>0.000000</td>\n",
       "      <td>...</td>\n",
       "      <td>0.000000</td>\n",
       "      <td>0.000000</td>\n",
       "      <td>0.000000</td>\n",
       "      <td>0.000000</td>\n",
       "      <td>0.000000</td>\n",
       "      <td>0.000000</td>\n",
       "      <td>0.000000</td>\n",
       "      <td>0.000000</td>\n",
       "      <td>0.000000</td>\n",
       "      <td>1.000000</td>\n",
       "    </tr>\n",
       "    <tr>\n",
       "      <th>25%</th>\n",
       "      <td>0.000000</td>\n",
       "      <td>0.000000</td>\n",
       "      <td>0.000000</td>\n",
       "      <td>0.000000</td>\n",
       "      <td>0.000000</td>\n",
       "      <td>0.000000</td>\n",
       "      <td>0.000000</td>\n",
       "      <td>0.000000</td>\n",
       "      <td>0.000000</td>\n",
       "      <td>0.000000</td>\n",
       "      <td>...</td>\n",
       "      <td>0.000000</td>\n",
       "      <td>0.000000</td>\n",
       "      <td>0.000000</td>\n",
       "      <td>0.000000</td>\n",
       "      <td>0.000000</td>\n",
       "      <td>0.000000</td>\n",
       "      <td>0.000000</td>\n",
       "      <td>0.000000</td>\n",
       "      <td>0.000000</td>\n",
       "      <td>1.000000</td>\n",
       "    </tr>\n",
       "    <tr>\n",
       "      <th>50%</th>\n",
       "      <td>0.000000</td>\n",
       "      <td>0.000000</td>\n",
       "      <td>0.000000</td>\n",
       "      <td>0.000000</td>\n",
       "      <td>0.000000</td>\n",
       "      <td>0.000000</td>\n",
       "      <td>0.000000</td>\n",
       "      <td>0.000000</td>\n",
       "      <td>0.000000</td>\n",
       "      <td>0.000000</td>\n",
       "      <td>...</td>\n",
       "      <td>0.000000</td>\n",
       "      <td>0.000000</td>\n",
       "      <td>0.000000</td>\n",
       "      <td>0.000000</td>\n",
       "      <td>0.000000</td>\n",
       "      <td>0.000000</td>\n",
       "      <td>0.000000</td>\n",
       "      <td>0.000000</td>\n",
       "      <td>0.000000</td>\n",
       "      <td>2.000000</td>\n",
       "    </tr>\n",
       "    <tr>\n",
       "      <th>75%</th>\n",
       "      <td>1.000000</td>\n",
       "      <td>0.000000</td>\n",
       "      <td>1.000000</td>\n",
       "      <td>0.000000</td>\n",
       "      <td>0.000000</td>\n",
       "      <td>0.000000</td>\n",
       "      <td>0.000000</td>\n",
       "      <td>0.000000</td>\n",
       "      <td>0.000000</td>\n",
       "      <td>0.000000</td>\n",
       "      <td>...</td>\n",
       "      <td>0.000000</td>\n",
       "      <td>0.000000</td>\n",
       "      <td>0.000000</td>\n",
       "      <td>0.000000</td>\n",
       "      <td>0.000000</td>\n",
       "      <td>0.000000</td>\n",
       "      <td>0.000000</td>\n",
       "      <td>0.000000</td>\n",
       "      <td>0.000000</td>\n",
       "      <td>2.000000</td>\n",
       "    </tr>\n",
       "    <tr>\n",
       "      <th>max</th>\n",
       "      <td>1.000000</td>\n",
       "      <td>1.000000</td>\n",
       "      <td>1.000000</td>\n",
       "      <td>1.000000</td>\n",
       "      <td>1.000000</td>\n",
       "      <td>1.000000</td>\n",
       "      <td>1.000000</td>\n",
       "      <td>1.000000</td>\n",
       "      <td>1.000000</td>\n",
       "      <td>1.000000</td>\n",
       "      <td>...</td>\n",
       "      <td>1.000000</td>\n",
       "      <td>1.000000</td>\n",
       "      <td>1.000000</td>\n",
       "      <td>1.000000</td>\n",
       "      <td>1.000000</td>\n",
       "      <td>1.000000</td>\n",
       "      <td>1.000000</td>\n",
       "      <td>1.000000</td>\n",
       "      <td>1.000000</td>\n",
       "      <td>7.000000</td>\n",
       "    </tr>\n",
       "  </tbody>\n",
       "</table>\n",
       "<p>8 rows × 45 columns</p>\n",
       "</div>"
      ],
      "text/plain": [
       "       Wilderness_Area1  Wilderness_Area2  Wilderness_Area3  Wilderness_Area4  \\\n",
       "count     519715.000000     519715.000000     519715.000000     519715.000000   \n",
       "mean           0.450101          0.051703          0.436135          0.062061   \n",
       "std            0.497504          0.221428          0.495905          0.241266   \n",
       "min            0.000000          0.000000          0.000000          0.000000   \n",
       "25%            0.000000          0.000000          0.000000          0.000000   \n",
       "50%            0.000000          0.000000          0.000000          0.000000   \n",
       "75%            1.000000          0.000000          1.000000          0.000000   \n",
       "max            1.000000          1.000000          1.000000          1.000000   \n",
       "\n",
       "          Soil_Type1     Soil_Type2     Soil_Type3     Soil_Type4  \\\n",
       "count  519715.000000  519715.000000  519715.000000  519715.000000   \n",
       "mean        0.005109       0.012795       0.007906       0.021071   \n",
       "std         0.071292       0.112391       0.088565       0.143622   \n",
       "min         0.000000       0.000000       0.000000       0.000000   \n",
       "25%         0.000000       0.000000       0.000000       0.000000   \n",
       "50%         0.000000       0.000000       0.000000       0.000000   \n",
       "75%         0.000000       0.000000       0.000000       0.000000   \n",
       "max         1.000000       1.000000       1.000000       1.000000   \n",
       "\n",
       "          Soil_Type5     Soil_Type6  ...    Soil_Type32    Soil_Type33  \\\n",
       "count  519715.000000  519715.000000  ...  519715.000000  519715.000000   \n",
       "mean        0.002678       0.011154  ...       0.090806       0.077885   \n",
       "std         0.051684       0.105023  ...       0.287333       0.267991   \n",
       "min         0.000000       0.000000  ...       0.000000       0.000000   \n",
       "25%         0.000000       0.000000  ...       0.000000       0.000000   \n",
       "50%         0.000000       0.000000  ...       0.000000       0.000000   \n",
       "75%         0.000000       0.000000  ...       0.000000       0.000000   \n",
       "max         1.000000       1.000000  ...       1.000000       1.000000   \n",
       "\n",
       "         Soil_Type34    Soil_Type35    Soil_Type36    Soil_Type37  \\\n",
       "count  519715.000000  519715.000000  519715.000000  519715.000000   \n",
       "mean        0.002830       0.003231       0.000210       0.000491   \n",
       "std         0.053126       0.056747       0.014481       0.022145   \n",
       "min         0.000000       0.000000       0.000000       0.000000   \n",
       "25%         0.000000       0.000000       0.000000       0.000000   \n",
       "50%         0.000000       0.000000       0.000000       0.000000   \n",
       "75%         0.000000       0.000000       0.000000       0.000000   \n",
       "max         1.000000       1.000000       1.000000       1.000000   \n",
       "\n",
       "         Soil_Type38    Soil_Type39    Soil_Type40     Cover_Type  \n",
       "count  519715.000000  519715.000000  519715.000000  519715.000000  \n",
       "mean        0.026734       0.023653       0.014958       2.038252  \n",
       "std         0.161305       0.151967       0.121386       1.381409  \n",
       "min         0.000000       0.000000       0.000000       1.000000  \n",
       "25%         0.000000       0.000000       0.000000       1.000000  \n",
       "50%         0.000000       0.000000       0.000000       2.000000  \n",
       "75%         0.000000       0.000000       0.000000       2.000000  \n",
       "max         1.000000       1.000000       1.000000       7.000000  \n",
       "\n",
       "[8 rows x 45 columns]"
      ]
     },
     "execution_count": 20,
     "metadata": {},
     "output_type": "execute_result"
    }
   ],
   "source": [
    "train_pd[discrete_cols].describe()"
   ]
  },
  {
   "cell_type": "markdown",
   "id": "historic-complaint",
   "metadata": {},
   "source": [
    "A continuación observaremos las correlaciones entre \"Cover_Type\" y todos los demás atributos del dataset. Elegimos esta variable ya que es la variable target de la practica."
   ]
  },
  {
   "cell_type": "code",
   "execution_count": 21,
   "id": "determined-criterion",
   "metadata": {},
   "outputs": [
    {
     "name": "stdout",
     "output_type": "stream",
     "text": [
      "Elevation                            -0.268540\n",
      "Wilderness_Area1                     -0.201561\n",
      "Horizontal_Distance_To_Roadways      -0.151131\n",
      "Soil_Type22                          -0.141142\n",
      "Soil_Type23                          -0.133935\n",
      "Soil_Type29                          -0.122907\n",
      "Horizontal_Distance_To_Fire_Points   -0.106680\n",
      "Hillshade_Noon                       -0.093789\n",
      "Soil_Type32                          -0.074092\n",
      "Soil_Type24                          -0.068050\n",
      "Soil_Type31                          -0.065319\n",
      "Soil_Type33                          -0.061119\n",
      "Wilderness_Area2                     -0.048190\n",
      "Hillshade_3pm                        -0.046451\n",
      "Soil_Type19                          -0.036634\n",
      "Hillshade_9am                        -0.035476\n",
      "Soil_Type20                          -0.028142\n",
      "Soil_Type21                          -0.024902\n",
      "Soil_Type12                          -0.021732\n",
      "Horizontal_Distance_To_Hydrology     -0.018857\n",
      "Soil_Type27                          -0.013960\n",
      "Soil_Type30                          -0.010625\n",
      "Soil_Type25                          -0.006405\n",
      "Soil_Type9                           -0.005762\n",
      "Soil_Type8                           -0.003714\n",
      "Soil_Type28                          -0.001358\n",
      "Soil_Type7                           -0.000382\n",
      "Soil_Type26                          -0.000278\n",
      "Soil_Type34                           0.005158\n",
      "Soil_Type15                           0.005626\n",
      "Soil_Type18                           0.007036\n",
      "Soil_Type16                           0.009923\n",
      "Aspect                                0.016906\n",
      "Soil_Type13                           0.024765\n",
      "Soil_Type36                           0.025762\n",
      "Soil_Type11                           0.035481\n",
      "Soil_Type14                           0.065074\n",
      "Soil_Type3                            0.065690\n",
      "Wilderness_Area3                      0.067283\n",
      "Soil_Type5                            0.077367\n",
      "Soil_Type35                           0.079571\n",
      "Soil_Type37                           0.079581\n",
      "Vertical_Distance_To_Hydrology        0.081114\n",
      "Soil_Type17                           0.088507\n",
      "Soil_Type1                            0.091113\n",
      "Soil_Type4                            0.099136\n",
      "Soil_Type6                            0.113386\n",
      "Soil_Type2                            0.118065\n",
      "Soil_Type40                           0.125025\n",
      "Slope                                 0.145944\n",
      "Soil_Type39                           0.154669\n",
      "Soil_Type38                           0.159641\n",
      "Soil_Type10                           0.243158\n",
      "Wilderness_Area4                      0.321563\n",
      "Cover_Type                            1.000000\n",
      "Name: Cover_Type, dtype: float64\n"
     ]
    }
   ],
   "source": [
    "correlations = train_pd.corr()[\"Cover_Type\"]\n",
    "print(correlations.sort_values())"
   ]
  },
  {
   "cell_type": "markdown",
   "id": "synthetic-coupon",
   "metadata": {},
   "source": [
    "Podemos graficar un mapa de calor que nos ayude a interpretar la correlación entre las variables."
   ]
  },
  {
   "cell_type": "code",
   "execution_count": 22,
   "id": "measured-secretary",
   "metadata": {},
   "outputs": [
    {
     "data": {
      "image/png": "[encoded data removed]",
      "text/plain": [
       "<Figure size 576x432 with 2 Axes>"
      ]
     },
     "metadata": {
      "needs_background": "light"
     },
     "output_type": "display_data"
    }
   ],
   "source": [
    "correlations_columns= [\"Soil_Type39\", \"Soil_Type38\", \"Wilderness_Area1\", \"Soil_Type10\", \"Elevation\", \"Wilderness_Area4\", \"Cover_Type\"]\n",
    "correlations_df = train_pd[correlations_columns]\n",
    "\n",
    "plt.figure(figsize= (8,6))\n",
    "sns.heatmap(abs(correlations_df.corr()), cmap= plt.cm.RdYlBu_r, vmin=0, vmax= 1, annot=True)\n",
    "\n",
    "plt.xticks(rotation= 60)\n",
    "\n",
    "plt.tight_layout()\n",
    "plt.show()"
   ]
  },
  {
   "cell_type": "markdown",
   "id": "prescribed-accident",
   "metadata": {},
   "source": [
    "Siguiendo con el análisi, podemos averiguar los quartiles de nuestra variable target."
   ]
  },
  {
   "cell_type": "code",
   "execution_count": 23,
   "id": "underlying-ethernet",
   "metadata": {},
   "outputs": [
    {
     "name": "stdout",
     "output_type": "stream",
     "text": [
      "quantile_25: 1.0\n",
      "quantile_50: 2.0\n",
      "quantile_75: 2.0\n"
     ]
    }
   ],
   "source": [
    "quantile = train.approxQuantile(['Cover_Type'], [0.25, 0.5, 0.75], 0)\n",
    "quantile_25 = quantile[0][0]\n",
    "quantile_50 = quantile[0][1]\n",
    "quantile_75 = quantile[0][2]\n",
    "print('quantile_25: '+str(quantile_25))\n",
    "print('quantile_50: '+str(quantile_50))\n",
    "print('quantile_75: '+str(quantile_75))"
   ]
  },
  {
   "cell_type": "markdown",
   "id": "victorian-straight",
   "metadata": {},
   "source": [
    "#### Remove Outliers"
   ]
  },
  {
   "cell_type": "markdown",
   "id": "convertible-chase",
   "metadata": {},
   "source": [
    "Vamos a observar los datos de la columna Elevation respecto nuestro target 'Cover_Type'. Observando el gráfico haremos un filtro por encima de 3500 y por abajo de 2400.\n"
   ]
  },
  {
   "cell_type": "code",
   "execution_count": 24,
   "id": "architectural-glucose",
   "metadata": {},
   "outputs": [
    {
     "data": {
      "image/png": "[encoded data removed]",
      "text/plain": [
       "<Figure size 1800x720 with 1 Axes>"
      ]
     },
     "metadata": {
      "needs_background": "light"
     },
     "output_type": "display_data"
    },
    {
     "name": "stdout",
     "output_type": "stream",
     "text": [
      "El resultado sería el siguiente: \n"
     ]
    },
    {
     "data": {
      "image/png": "[encoded data removed]",
      "text/plain": [
       "<Figure size 1800x720 with 1 Axes>"
      ]
     },
     "metadata": {
      "needs_background": "light"
     },
     "output_type": "display_data"
    },
    {
     "name": "stdout",
     "output_type": "stream",
     "text": [
      " ---------------------------------------------------- \n"
     ]
    }
   ],
   "source": [
    "plt.figure(1, figsize=(25,10))\n",
    "sns.boxplot(data=train_pd, x=\"Cover_Type\", y=\"Elevation\")\n",
    "plt.title(\"Scatterplot of Cover_Type vs Elevation\")\n",
    "plt.show()\n",
    "\n",
    "train_pd = train_pd.where(train_pd.Elevation < 3500)\n",
    "train_pd = train_pd.where(train_pd.Elevation > 2000)\n",
    "\n",
    "print(\"El resultado sería el siguiente: \")\n",
    "plt.figure(1, figsize=(25,10))\n",
    "sns.boxplot(data=train_pd, x=\"Cover_Type\", y=\"Elevation\")\n",
    "plt.title(f\"Scatterplot of Cover_Type vs Elevation\")\n",
    "plt.show()\n",
    "\n",
    "print(\" ---------------------------------------------------- \")\n"
   ]
  },
  {
   "cell_type": "markdown",
   "id": "blocked-authentication",
   "metadata": {},
   "source": [
    "Vamos a observar los datos de la columna Slope respecto nuestro target 'Cover_Type'. Observando el gráfico haremos un filtro por abajo de 40."
   ]
  },
  {
   "cell_type": "code",
   "execution_count": 25,
   "id": "da0e9daf",
   "metadata": {},
   "outputs": [
    {
     "data": {
      "image/png": "[encoded data removed]",
      "text/plain": [
       "<Figure size 1800x720 with 1 Axes>"
      ]
     },
     "metadata": {
      "needs_background": "light"
     },
     "output_type": "display_data"
    },
    {
     "name": "stdout",
     "output_type": "stream",
     "text": [
      "El resultado sería el siguiente: \n"
     ]
    },
    {
     "data": {
      "image/png": "[encoded data removed]",
      "text/plain": [
       "<Figure size 1800x720 with 1 Axes>"
      ]
     },
     "metadata": {
      "needs_background": "light"
     },
     "output_type": "display_data"
    },
    {
     "name": "stdout",
     "output_type": "stream",
     "text": [
      " ---------------------------------------------------- \n"
     ]
    }
   ],
   "source": [
    "plt.figure(1, figsize=(25,10))\n",
    "sns.boxplot(data=train_pd, x=\"Cover_Type\", y='Slope')\n",
    "plt.title(f\"Scatterplot of Cover_Type vs Slope\")\n",
    "plt.show()\n",
    "\n",
    "train_pd = train_pd.where(train_pd.Slope < 40)\n",
    "   \n",
    "print(\"El resultado sería el siguiente: \")\n",
    "plt.figure(1, figsize=(25,10))\n",
    "sns.boxplot(data=train_pd, x=\"Cover_Type\", y=\"Slope\")\n",
    "plt.title(f\"Scatterplot of Cover_Type vs Slope\")\n",
    "plt.show()\n",
    "   \n",
    "print(\" ---------------------------------------------------- \")"
   ]
  },
  {
   "cell_type": "markdown",
   "id": "ongoing-garden",
   "metadata": {},
   "source": [
    "Vamos a observar los datos de la columna Horizontal_Distance_To_Hydrology respecto nuestro target 'Cover_Type'. Observando el gráfico haremos un filtro por abajo de 1000."
   ]
  },
  {
   "cell_type": "code",
   "execution_count": 26,
   "id": "2caa18b4",
   "metadata": {},
   "outputs": [
    {
     "data": {
      "image/png": "[encoded data removed]",
      "text/plain": [
       "<Figure size 1800x720 with 1 Axes>"
      ]
     },
     "metadata": {
      "needs_background": "light"
     },
     "output_type": "display_data"
    },
    {
     "name": "stdout",
     "output_type": "stream",
     "text": [
      "El resultado sería el siguiente: \n"
     ]
    },
    {
     "data": {
      "image/png": "[encoded data removed]",
      "text/plain": [
       "<Figure size 1800x720 with 1 Axes>"
      ]
     },
     "metadata": {
      "needs_background": "light"
     },
     "output_type": "display_data"
    },
    {
     "name": "stdout",
     "output_type": "stream",
     "text": [
      " ---------------------------------------------------- \n"
     ]
    }
   ],
   "source": [
    "plt.figure(1, figsize=(25,10))\n",
    "sns.boxplot(data=train_pd, x=\"Cover_Type\", y='Horizontal_Distance_To_Hydrology')\n",
    "plt.title(f\"Scatterplot of Cover_Type vs Horizontal_Distance_To_Hydrology\")\n",
    "plt.show()\n",
    "\n",
    "\n",
    "train_pd = train_pd.where(train_pd.Horizontal_Distance_To_Hydrology < 1000)\n",
    "   \n",
    "print(\"El resultado sería el siguiente: \")\n",
    "plt.figure(1, figsize=(25,10))\n",
    "sns.boxplot(data=train_pd, x=\"Cover_Type\", y=\"Horizontal_Distance_To_Hydrology\")\n",
    "plt.title(f\"Scatterplot of Cover_Type vs Horizontal_Distance_To_Hydrology\")\n",
    "plt.show()\n",
    "   \n",
    "print(\" ---------------------------------------------------- \")\n"
   ]
  },
  {
   "cell_type": "markdown",
   "id": "employed-animation",
   "metadata": {},
   "source": [
    "Vamos a observar los datos de la columna Vertical_Distance_To_Hydrology respecto nuestro target 'Cover_Type'. Observando el gráfico haremos un filtro por abajo de 200 y por encima de -100\".\n",
    "  "
   ]
  },
  {
   "cell_type": "code",
   "execution_count": 27,
   "id": "099ee600",
   "metadata": {},
   "outputs": [
    {
     "data": {
      "image/png": "[encoded data removed]",
      "text/plain": [
       "<Figure size 1800x720 with 1 Axes>"
      ]
     },
     "metadata": {
      "needs_background": "light"
     },
     "output_type": "display_data"
    },
    {
     "name": "stdout",
     "output_type": "stream",
     "text": [
      "El resultado sería el siguiente: \n"
     ]
    },
    {
     "data": {
      "image/png": "[encoded data removed]",
      "text/plain": [
       "<Figure size 1800x720 with 1 Axes>"
      ]
     },
     "metadata": {
      "needs_background": "light"
     },
     "output_type": "display_data"
    },
    {
     "name": "stdout",
     "output_type": "stream",
     "text": [
      " ---------------------------------------------------- \n"
     ]
    }
   ],
   "source": [
    " plt.figure(1, figsize=(25,10))\n",
    "sns.boxplot(data=train_pd, x=\"Cover_Type\", y='Vertical_Distance_To_Hydrology')\n",
    "plt.title(f\"Scatterplot of Cover_Type vs Vertical_Distance_To_Hydrology\")\n",
    "plt.show()\n",
    "\n",
    "train_pd = train_pd.where(train_pd.Vertical_Distance_To_Hydrology < 90)\n",
    "train_pd = train_pd.where(train_pd.Vertical_Distance_To_Hydrology > -100)\n",
    "   \n",
    "print(\"El resultado sería el siguiente: \")\n",
    "plt.figure(1, figsize=(25,10))\n",
    "sns.boxplot(data=train_pd, x=\"Cover_Type\", y=\"Vertical_Distance_To_Hydrology\")\n",
    "plt.title(f\"Scatterplot of Cover_Type vs Vertical_Distance_To_Hydrology\")\n",
    "plt.show()\n",
    "   \n",
    "print(\" ---------------------------------------------------- \")"
   ]
  },
  {
   "cell_type": "markdown",
   "id": "boring-officer",
   "metadata": {},
   "source": [
    "Vamos a observar los datos de la columna Hillshade_9am respecto nuestro target 'Cover_Type'. Observando el gráfico haremos un filtro por abajo de 60.\n",
    "  "
   ]
  },
  {
   "cell_type": "code",
   "execution_count": 28,
   "id": "779d3aa7",
   "metadata": {},
   "outputs": [
    {
     "data": {
      "image/png": "[encoded data removed]",
      "text/plain": [
       "<Figure size 1800x720 with 1 Axes>"
      ]
     },
     "metadata": {
      "needs_background": "light"
     },
     "output_type": "display_data"
    },
    {
     "name": "stdout",
     "output_type": "stream",
     "text": [
      "El resultado sería el siguiente: \n"
     ]
    },
    {
     "data": {
      "image/png": "[encoded data removed]",
      "text/plain": [
       "<Figure size 1800x720 with 1 Axes>"
      ]
     },
     "metadata": {
      "needs_background": "light"
     },
     "output_type": "display_data"
    },
    {
     "name": "stdout",
     "output_type": "stream",
     "text": [
      " ---------------------------------------------------- \n"
     ]
    }
   ],
   "source": [
    "plt.figure(1, figsize=(25,10))\n",
    "sns.boxplot(data=train_pd, x=\"Cover_Type\", y='Hillshade_9am')\n",
    "plt.title(f\"Scatterplot of Cover_Type vs Hillshade_9am\")\n",
    "plt.show()\n",
    "\n",
    "train_pd = train_pd.where(train_pd.Hillshade_9am > 60)\n",
    "   \n",
    "print(\"El resultado sería el siguiente: \")\n",
    "plt.figure(1, figsize=(25,10))\n",
    "sns.boxplot(data=train_pd, x=\"Cover_Type\", y='Hillshade_9am')\n",
    "plt.title(f\"Scatterplot of Cover_Type vs Hillshade_9am\")\n",
    "plt.show()\n",
    "   \n",
    "print(\" ---------------------------------------------------- \")"
   ]
  },
  {
   "cell_type": "markdown",
   "id": "fluid-passage",
   "metadata": {},
   "source": [
    "Vamos a observar los datos de la columna Hillshade_Noon respecto nuestro target 'Cover_Type'. Observando el gráfico haremos un filtro por encima de 150\"."
   ]
  },
  {
   "cell_type": "code",
   "execution_count": 29,
   "id": "17b42b6e",
   "metadata": {},
   "outputs": [
    {
     "data": {
      "image/png": "[encoded data removed]",
      "text/plain": [
       "<Figure size 1800x720 with 1 Axes>"
      ]
     },
     "metadata": {
      "needs_background": "light"
     },
     "output_type": "display_data"
    },
    {
     "name": "stdout",
     "output_type": "stream",
     "text": [
      "El resultado sería el siguiente: \n"
     ]
    },
    {
     "data": {
      "image/png": "[encoded data removed]",
      "text/plain": [
       "<Figure size 1800x720 with 1 Axes>"
      ]
     },
     "metadata": {
      "needs_background": "light"
     },
     "output_type": "display_data"
    },
    {
     "name": "stdout",
     "output_type": "stream",
     "text": [
      " ---------------------------------------------------- \n"
     ]
    }
   ],
   "source": [
    "plt.figure(1, figsize=(25,10))\n",
    "sns.boxplot(data=train_pd, x=\"Cover_Type\", y='Hillshade_Noon')\n",
    "plt.title(f\"Scatterplot of Cover_Type vs Hillshade_Noon\")\n",
    "plt.show()\n",
    "\n",
    "train_pd = train_pd.where(train_pd.Hillshade_Noon > 150)\n",
    "   \n",
    "print(\"El resultado sería el siguiente: \")\n",
    "plt.figure(1, figsize=(25,10))\n",
    "sns.boxplot(data=train_pd, x=\"Cover_Type\", y=\"Hillshade_Noon\")\n",
    "plt.title(f\"Scatterplot of Cover_Type vs Hillshade_Noon\")\n",
    "plt.show()\n",
    "   \n",
    "print(\" ---------------------------------------------------- \")"
   ]
  },
  {
   "cell_type": "markdown",
   "id": "ahead-ability",
   "metadata": {},
   "source": [
    "Vamos a observar los datos de la columna Horizontal_Distance_To_Fire_Points respecto nuestro target 'Cover_Type'\". Observando el gráfico haremos un filtro por abajo de 5000.\n",
    "   \n"
   ]
  },
  {
   "cell_type": "code",
   "execution_count": 30,
   "id": "e6d7f1fe",
   "metadata": {},
   "outputs": [
    {
     "data": {
      "image/png": "[encoded data removed]",
      "text/plain": [
       "<Figure size 1800x720 with 1 Axes>"
      ]
     },
     "metadata": {
      "needs_background": "light"
     },
     "output_type": "display_data"
    },
    {
     "name": "stdout",
     "output_type": "stream",
     "text": [
      "El resultado sería el siguiente: \n"
     ]
    },
    {
     "data": {
      "image/png": "[encoded data removed]",
      "text/plain": [
       "<Figure size 1800x720 with 1 Axes>"
      ]
     },
     "metadata": {
      "needs_background": "light"
     },
     "output_type": "display_data"
    },
    {
     "name": "stdout",
     "output_type": "stream",
     "text": [
      " ---------------------------------------------------- \n"
     ]
    }
   ],
   "source": [
    "plt.figure(1, figsize=(25,10))\n",
    "sns.boxplot(data=train_pd, x=\"Cover_Type\", y='Horizontal_Distance_To_Fire_Points')\n",
    "plt.title(f\"Scatterplot of Cover_Type vs Horizontal_Distance_To_Fire_Points\")\n",
    "plt.show()\n",
    "\n",
    "train_pd = train_pd.where(train_pd.Horizontal_Distance_To_Fire_Points<5000)\n",
    "   \n",
    "print(\"El resultado sería el siguiente: \")\n",
    "plt.figure(1, figsize=(25,10))\n",
    "sns.boxplot(data=train_pd, x=\"Cover_Type\", y=\"Horizontal_Distance_To_Fire_Points\")\n",
    "plt.title(f\"Scatterplot of Cover_Type vs Horizontal_Distance_To_Fire_Points\")\n",
    "plt.show()\n",
    "   \n",
    "print(\" ---------------------------------------------------- \")"
   ]
  },
  {
   "cell_type": "markdown",
   "id": "6f72be53",
   "metadata": {},
   "source": [
    "En los siguientes plots podremos observar que no hay outliers y es por eso que no se ha realizado ningun filtro en sus correspondientes atributos."
   ]
  },
  {
   "cell_type": "code",
   "execution_count": 31,
   "id": "d6cc9935",
   "metadata": {},
   "outputs": [
    {
     "name": "stdout",
     "output_type": "stream",
     "text": [
      "Vamos a observar los datos de la columna Aspect respecto nuestro target 'Cover_Type'\n"
     ]
    },
    {
     "data": {
      "image/png": "[encoded data removed]",
      "text/plain": [
       "<Figure size 1800x720 with 1 Axes>"
      ]
     },
     "metadata": {
      "needs_background": "light"
     },
     "output_type": "display_data"
    },
    {
     "name": "stdout",
     "output_type": "stream",
     "text": [
      " ---------------------------------------------------- \n",
      "Vamos a observar los datos de la columna Horizontal_Distance_To_Roadways respecto nuestro target 'Cover_Type'\n"
     ]
    },
    {
     "data": {
      "image/png": "[encoded data removed]",
      "text/plain": [
       "<Figure size 1800x720 with 1 Axes>"
      ]
     },
     "metadata": {
      "needs_background": "light"
     },
     "output_type": "display_data"
    },
    {
     "name": "stdout",
     "output_type": "stream",
     "text": [
      " ---------------------------------------------------- \n",
      "Vamos a observar los datos de la columna Hillshade_3pm respecto nuestro target 'Cover_Type'\n"
     ]
    },
    {
     "data": {
      "image/png": "[encoded data removed]",
      "text/plain": [
       "<Figure size 1800x720 with 1 Axes>"
      ]
     },
     "metadata": {
      "needs_background": "light"
     },
     "output_type": "display_data"
    }
   ],
   "source": [
    "print(f\"Vamos a observar los datos de la columna Aspect respecto nuestro target 'Cover_Type'\")\n",
    "   \n",
    "plt.figure(1, figsize=(25,10))\n",
    "sns.boxplot(data=train_pd, x=\"Cover_Type\", y='Aspect')\n",
    "plt.title(f\"Scatterplot of Cover_Type vs Aspect\")\n",
    "plt.show()\n",
    "\n",
    "\n",
    "print(\" ---------------------------------------------------- \")\n",
    "\n",
    "print(f\"Vamos a observar los datos de la columna Horizontal_Distance_To_Roadways respecto nuestro target 'Cover_Type'\")\n",
    "   \n",
    "plt.figure(1, figsize=(25,10))\n",
    "sns.boxplot(data=train_pd, x=\"Cover_Type\", y='Horizontal_Distance_To_Roadways')\n",
    "plt.title(f\"Scatterplot of Cover_Type vs Horizontal_Distance_To_Roadways\")\n",
    "plt.show()\n",
    "\n",
    "\n",
    "print(\" ---------------------------------------------------- \")\n",
    "\n",
    "print(f\"Vamos a observar los datos de la columna Hillshade_3pm respecto nuestro target 'Cover_Type'\")\n",
    "   \n",
    "plt.figure(1, figsize=(25,10))\n",
    "sns.boxplot(data=train_pd, x=\"Cover_Type\", y='Hillshade_3pm')\n",
    "plt.title(f\"Scatterplot of Cover_Type vs Hillshade_3pm\")\n",
    "plt.show()\n",
    "   "
   ]
  },
  {
   "cell_type": "markdown",
   "id": "pressing-combine",
   "metadata": {},
   "source": [
    "### Feature Engineering"
   ]
  },
  {
   "cell_type": "markdown",
   "id": "integrated-inflation",
   "metadata": {},
   "source": [
    "La división del train i del test ya se ha realizado en la primera sección del lab, junto con el filtrado del train en la segunda sección. Así que partimos de esta base. Vamos a seguir algunas de las recomendaciones citadas en el enunciado de la practica."
   ]
  },
  {
   "cell_type": "markdown",
   "id": "chief-annex",
   "metadata": {},
   "source": [
    "Una característica potencial del dominio del conocimiento podría ser \"Ratio_Distance_To_Hidrology\", calculada como \"Vertical_Distance_To_Hydrology\"/\"Horizontal_Distance_To_Hydrology\""
   ]
  },
  {
   "cell_type": "markdown",
   "id": "virgin-present",
   "metadata": {},
   "source": [
    "#### Ratio Distance To Hidrology"
   ]
  },
  {
   "cell_type": "code",
   "execution_count": 9,
   "id": "dominant-colon",
   "metadata": {},
   "outputs": [
    {
     "name": "stdout",
     "output_type": "stream",
     "text": [
      "+-------+---------------------------+\n",
      "|summary|Ratio_Distance_To_Hidrology|\n",
      "+-------+---------------------------+\n",
      "|  count|                     497924|\n",
      "|   mean|         0.1700043655886752|\n",
      "| stddev|        0.16133473921573718|\n",
      "|    min|         -5.133333333333334|\n",
      "|    max|          5.214285714285714|\n",
      "+-------+---------------------------+\n",
      "\n"
     ]
    }
   ],
   "source": [
    "train = train.withColumn(\"Ratio_Distance_To_Hidrology\", train.Vertical_Distance_To_Hydrology / train.Horizontal_Distance_To_Hydrology )\n",
    "train.select(\"Ratio_Distance_To_Hidrology\").describe().show()"
   ]
  },
  {
   "cell_type": "markdown",
   "id": "nervous-penny",
   "metadata": {},
   "source": [
    "La variable target \"Cover_Type\" se convierte en un valor *Double* para trabajar con PySpark MLib. "
   ]
  },
  {
   "cell_type": "code",
   "execution_count": 10,
   "id": "exciting-equation",
   "metadata": {},
   "outputs": [
    {
     "name": "stdout",
     "output_type": "stream",
     "text": [
      "root\n",
      " |-- Elevation: integer (nullable = true)\n",
      " |-- Aspect: integer (nullable = true)\n",
      " |-- Slope: integer (nullable = true)\n",
      " |-- Horizontal_Distance_To_Hydrology: integer (nullable = true)\n",
      " |-- Vertical_Distance_To_Hydrology: integer (nullable = true)\n",
      " |-- Horizontal_Distance_To_Roadways: integer (nullable = true)\n",
      " |-- Hillshade_9am: integer (nullable = true)\n",
      " |-- Hillshade_Noon: integer (nullable = true)\n",
      " |-- Hillshade_3pm: integer (nullable = true)\n",
      " |-- Horizontal_Distance_To_Fire_Points: integer (nullable = true)\n",
      " |-- Wilderness_Area1: integer (nullable = true)\n",
      " |-- Wilderness_Area2: integer (nullable = true)\n",
      " |-- Wilderness_Area3: integer (nullable = true)\n",
      " |-- Wilderness_Area4: integer (nullable = true)\n",
      " |-- Soil_Type1: integer (nullable = true)\n",
      " |-- Soil_Type2: integer (nullable = true)\n",
      " |-- Soil_Type3: integer (nullable = true)\n",
      " |-- Soil_Type4: integer (nullable = true)\n",
      " |-- Soil_Type5: integer (nullable = true)\n",
      " |-- Soil_Type6: integer (nullable = true)\n",
      " |-- Soil_Type7: integer (nullable = true)\n",
      " |-- Soil_Type8: integer (nullable = true)\n",
      " |-- Soil_Type9: integer (nullable = true)\n",
      " |-- Soil_Type10: integer (nullable = true)\n",
      " |-- Soil_Type11: integer (nullable = true)\n",
      " |-- Soil_Type12: integer (nullable = true)\n",
      " |-- Soil_Type13: integer (nullable = true)\n",
      " |-- Soil_Type14: integer (nullable = true)\n",
      " |-- Soil_Type15: integer (nullable = true)\n",
      " |-- Soil_Type16: integer (nullable = true)\n",
      " |-- Soil_Type17: integer (nullable = true)\n",
      " |-- Soil_Type18: integer (nullable = true)\n",
      " |-- Soil_Type19: integer (nullable = true)\n",
      " |-- Soil_Type20: integer (nullable = true)\n",
      " |-- Soil_Type21: integer (nullable = true)\n",
      " |-- Soil_Type22: integer (nullable = true)\n",
      " |-- Soil_Type23: integer (nullable = true)\n",
      " |-- Soil_Type24: integer (nullable = true)\n",
      " |-- Soil_Type25: integer (nullable = true)\n",
      " |-- Soil_Type26: integer (nullable = true)\n",
      " |-- Soil_Type27: integer (nullable = true)\n",
      " |-- Soil_Type28: integer (nullable = true)\n",
      " |-- Soil_Type29: integer (nullable = true)\n",
      " |-- Soil_Type30: integer (nullable = true)\n",
      " |-- Soil_Type31: integer (nullable = true)\n",
      " |-- Soil_Type32: integer (nullable = true)\n",
      " |-- Soil_Type33: integer (nullable = true)\n",
      " |-- Soil_Type34: integer (nullable = true)\n",
      " |-- Soil_Type35: integer (nullable = true)\n",
      " |-- Soil_Type36: integer (nullable = true)\n",
      " |-- Soil_Type37: integer (nullable = true)\n",
      " |-- Soil_Type38: integer (nullable = true)\n",
      " |-- Soil_Type39: integer (nullable = true)\n",
      " |-- Soil_Type40: integer (nullable = true)\n",
      " |-- Cover_Type: double (nullable = true)\n",
      " |-- Ratio_Distance_To_Hidrology: double (nullable = true)\n",
      "\n"
     ]
    }
   ],
   "source": [
    "train = train.withColumn(\"Cover_Type\", col(\"Cover_Type\").cast(DoubleType()))\n",
    "train.printSchema()"
   ]
  },
  {
   "cell_type": "markdown",
   "id": "commercial-pregnancy",
   "metadata": {},
   "source": [
    "A partir de la descripción original de los datos, el número de tipo de \"Soil\" se basa en las Unidades ecológicas de tipo de suelo (ELU) del USFS. El código ELU contiene más información sobre los suelos, incluida la zona climática y la zona geológica. Además, cada código ELU viene con una breve descripción de la que podemos extraer más información sobre la cobertura de la superficie (por rocas/cantos rodados) y el tamaño de la roca."
   ]
  },
  {
   "cell_type": "markdown",
   "id": "dried-occurrence",
   "metadata": {},
   "source": [
    "#### ELU CODE"
   ]
  },
  {
   "cell_type": "code",
   "execution_count": 11,
   "id": "married-interaction",
   "metadata": {},
   "outputs": [],
   "source": [
    "# Mapping soil type to ELU code\n",
    "ELU_CODE = {\n",
    "    1:2702,2:2703,3:2704,4:2705,5:2706,6:2717,7:3501,8:3502,9:4201,\n",
    "    10:4703,11:4704,12:4744,13:4758,14:5101,15:5151,16:6101,17:6102,\n",
    "    18:6731,19:7101,20:7102,21:7103,22:7201,23:7202,24:7700,25:7701,\n",
    "    26:7702,27:7709,28:7710,29:7745,30:7746,31:7755,32:7756,33:7757,\n",
    "    34:7790,35:8703,36:8707,37:8708,38:8771,39:8772,40:8776\n",
    "}"
   ]
  },
  {
   "cell_type": "markdown",
   "id": "hairy-lawrence",
   "metadata": {},
   "source": [
    "#### Soil Type Ordinal Encoding"
   ]
  },
  {
   "cell_type": "markdown",
   "id": "representative-exhibition",
   "metadata": {},
   "source": [
    "El tipo de \"Soil\" es una sola variable que ha sido codificada en one-hot  para comportarse bien con una red neuronal. En general, los modelos basados en árboles funcionan mejor sin una codificación one-hot explícita, por lo que aplicaremos ingeniería inversa al tipo de de esta variable \"Soil\". Eliminaremos las columnas de tipo de suelo originales, lo que tiene el efecto adicional de reducir significativamente el número total de características."
   ]
  },
  {
   "cell_type": "code",
   "execution_count": 12,
   "id": "alternative-assets",
   "metadata": {},
   "outputs": [],
   "source": [
    "# Encode soil type ordinally\n",
    "def categorical_encoding(input_df):\n",
    "    data = input_df.copy()\n",
    "    data['Soil_Type'] = 0\n",
    "    for i in range(1,41):\n",
    "        data['Soil_Type'] += i*data[f'Soil_Type{i}']\n",
    "    return data"
   ]
  },
  {
   "cell_type": "code",
   "execution_count": 13,
   "id": "delayed-cathedral",
   "metadata": {},
   "outputs": [
    {
     "data": {
      "text/plain": [
       "0    2\n",
       "1    5\n",
       "2    5\n",
       "3    5\n",
       "4    2\n",
       "5    1\n",
       "6    1\n",
       "7    3\n",
       "8    1\n",
       "9    5\n",
       "Name: Soil_Type, dtype: int64"
      ]
     },
     "execution_count": 13,
     "metadata": {},
     "output_type": "execute_result"
    }
   ],
   "source": [
    "# Encode soil type\n",
    "train_pd = categorical_encoding(train_pd)\n",
    "test_pd = categorical_encoding(test_pd)\n",
    "\n",
    "# Original soil features\n",
    "soil_features = [f'Soil_Type{i}' for i in range(1,41)]\n",
    "train_pd[\"Soil_Type\"].head(10)"
   ]
  },
  {
   "cell_type": "markdown",
   "id": "sonic-section",
   "metadata": {},
   "source": [
    "#### Climatic Zone"
   ]
  },
  {
   "cell_type": "markdown",
   "id": "owned-quarterly",
   "metadata": {},
   "source": [
    "Creamos una característica basada en la zona climática del \"Soil\". Esto se puede determinar por el primer dígito del código ELU. Tenemos que tener en cuenta que la zona climatica tiene un orden:\n",
    "\n",
    " - lower montane dry\n",
    " - lower montane\n",
    " - montane dry\n",
    " - montane\n",
    " - montane dry and montane\n",
    " - montane and subalpine\n",
    " - subalpine\n",
    " - alpine"
   ]
  },
  {
   "cell_type": "code",
   "execution_count": 14,
   "id": "minute-zealand",
   "metadata": {},
   "outputs": [],
   "source": [
    "def climatic_zone(input_df):\n",
    "    df = input_df.copy()\n",
    "    df['Climatic_Zone'] = input_df['Soil_Type'].apply(\n",
    "        lambda x: int(str(ELU_CODE[x])[0])\n",
    "    )\n",
    "    return df"
   ]
  },
  {
   "cell_type": "code",
   "execution_count": 15,
   "id": "vulnerable-century",
   "metadata": {},
   "outputs": [
    {
     "data": {
      "text/plain": [
       "0     2\n",
       "1     2\n",
       "2     2\n",
       "3     2\n",
       "4     2\n",
       "5     2\n",
       "6     2\n",
       "7     2\n",
       "8     2\n",
       "9     2\n",
       "10    2\n",
       "11    2\n",
       "12    2\n",
       "13    2\n",
       "14    2\n",
       "Name: Climatic_Zone, dtype: int64"
      ]
     },
     "execution_count": 15,
     "metadata": {},
     "output_type": "execute_result"
    }
   ],
   "source": [
    "# Climatic Zone\n",
    "train_pd = climatic_zone(train_pd)\n",
    "test_pd = climatic_zone(test_pd)\n",
    "train_pd[\"Climatic_Zone\"].head(15)"
   ]
  },
  {
   "cell_type": "markdown",
   "id": "canadian-outreach",
   "metadata": {},
   "source": [
    "#### Geologic Zone"
   ]
  },
  {
   "cell_type": "markdown",
   "id": "impressive-absorption",
   "metadata": {},
   "source": [
    "Esta es otra característica que proviene directamente del código ELU. La zona geológica está determinada por el segundo dígito del código ELU. A diferencia de la zona climática, la zona geológica no tiene un orden:\n",
    "\n",
    "- aluvión\n",
    "- glacial\n",
    "- esquisto\n",
    "- arenisca\n",
    "- sedimentario mixto\n",
    "- no especificado en la encuesta USFS ELU\n",
    "- ígneas y metamórficas\n",
    "- volcánico"
   ]
  },
  {
   "cell_type": "code",
   "execution_count": 16,
   "id": "municipal-bhutan",
   "metadata": {},
   "outputs": [],
   "source": [
    "def geologic_zone(input_df):\n",
    "    df = input_df.copy()\n",
    "    df['Geologic_Zone'] = input_df['Soil_Type'].apply(\n",
    "        lambda x: int(str(ELU_CODE[x])[1])\n",
    "    )\n",
    "    return df"
   ]
  },
  {
   "cell_type": "code",
   "execution_count": 17,
   "id": "opposite-characterization",
   "metadata": {},
   "outputs": [
    {
     "data": {
      "text/plain": [
       "0     7\n",
       "1     7\n",
       "2     7\n",
       "3     7\n",
       "4     7\n",
       "5     7\n",
       "6     7\n",
       "7     7\n",
       "8     7\n",
       "9     7\n",
       "10    7\n",
       "11    7\n",
       "12    7\n",
       "13    7\n",
       "14    7\n",
       "Name: Geologic_Zone, dtype: int64"
      ]
     },
     "execution_count": 17,
     "metadata": {},
     "output_type": "execute_result"
    }
   ],
   "source": [
    "# Geologic Zone\n",
    "train_pd = geologic_zone(train_pd)\n",
    "test_pd = geologic_zone(test_pd)\n",
    "train_pd[\"Geologic_Zone\"].head(15)"
   ]
  },
  {
   "cell_type": "markdown",
   "id": "central-scholarship",
   "metadata": {},
   "source": [
    "#### Surface Cover"
   ]
  },
  {
   "cell_type": "markdown",
   "id": "postal-market",
   "metadata": {},
   "source": [
    "Esta característica también se basa en el código ELU y la descripción de datos original para cada tipo de \"Soil\". De acuerdo con la referencia del USDA sobre perfiles de suelo:\n",
    "\n",
    "- (Stony/Bouldery)\n",
    "- (Very Stony/Very Bouldery)\n",
    "- (Extremely Stony/Extremely Bouldery)\n",
    "- (Rubbly)\n",
    "- (Very Rubbly)\n",
    "\n",
    "Si no se da una descripción de la familía, le pondre un 0."
   ]
  },
  {
   "cell_type": "code",
   "execution_count": 18,
   "id": "descending-consideration",
   "metadata": {},
   "outputs": [],
   "source": [
    "def surface_cover(input_df):\n",
    "    no_desc = [7,8,14,15,16,17,19,20,21,23,35]\n",
    "    stony = [6,12]\n",
    "    very_stony = [2,9,18,26]\n",
    "    extremely_stony = [1,22,24,25,27,28,29,30,31,32,33,34,36,37,38,39,40]\n",
    "    rubbly = [3,4,5,10,11,13]\n",
    "\n",
    "    # Create dictionary\n",
    "    surface_cover = {i:0 for i in no_desc}\n",
    "    surface_cover.update({i:1 for i in stony})\n",
    "    surface_cover.update({i:2 for i in very_stony})\n",
    "    surface_cover.update({i:3 for i in extremely_stony})\n",
    "    surface_cover.update({i:4 for i in rubbly})\n",
    "    \n",
    "    # Create Feature\n",
    "    df = input_df.copy()\n",
    "    df['Surface_Cover'] = input_df['Soil_Type'].apply(\n",
    "        lambda x: surface_cover[x]\n",
    "    )\n",
    "    return df"
   ]
  },
  {
   "cell_type": "code",
   "execution_count": 19,
   "id": "hawaiian-methodology",
   "metadata": {},
   "outputs": [
    {
     "data": {
      "text/plain": [
       "0     2\n",
       "1     4\n",
       "2     4\n",
       "3     4\n",
       "4     2\n",
       "5     3\n",
       "6     3\n",
       "7     4\n",
       "8     3\n",
       "9     4\n",
       "10    3\n",
       "11    2\n",
       "12    4\n",
       "13    2\n",
       "14    4\n",
       "Name: Surface_Cover, dtype: int64"
      ]
     },
     "execution_count": 19,
     "metadata": {},
     "output_type": "execute_result"
    }
   ],
   "source": [
    "train_pd = surface_cover(train_pd)\n",
    "test_pd = surface_cover(test_pd)\n",
    "train_pd[\"Surface_Cover\"].head(15)"
   ]
  },
  {
   "cell_type": "markdown",
   "id": "velvet-award",
   "metadata": {},
   "source": [
    "#### Rock Size"
   ]
  },
  {
   "cell_type": "markdown",
   "id": "rational-sydney",
   "metadata": {},
   "source": [
    "La última característica del tipo de \"Soil\" que consideramos es el tamaño de la roca. Esto también se determina a partir del código ELU, la descripción de los datos originales y la referencia del perfil del suelo del USFS:\n",
    "\n",
    "- Stones\n",
    "- Boulders\n",
    "- Rubble (escombros)\n",
    "\n",
    "Si la descripción del tipo de suelo no menciona el tamaño de la roca, le damos un valor predeterminado de 0."
   ]
  },
  {
   "cell_type": "code",
   "execution_count": 20,
   "id": "western-ending",
   "metadata": {},
   "outputs": [],
   "source": [
    "def rock_size(input_df):\n",
    "    no_desc = [7,8,14,15,16,17,19,20,21,23,35]\n",
    "    stones = [1,2,6,9,12,18,24,25,26,27,28,29,30,31,32,33,34,36,37,38,39,40]\n",
    "    boulders = [22]\n",
    "    rubble = [3,4,5,10,11,13]\n",
    "\n",
    "    # Create dictionary\n",
    "    rock_size = {i:0 for i in no_desc}\n",
    "    rock_size.update({i:1 for i in stones})\n",
    "    rock_size.update({i:2 for i in boulders})\n",
    "    rock_size.update({i:3 for i in rubble})\n",
    "    \n",
    "    df = input_df.copy()\n",
    "    df['Rock_Size'] = input_df['Soil_Type'].apply(\n",
    "        lambda x: rock_size[x]\n",
    "    )\n",
    "    return df"
   ]
  },
  {
   "cell_type": "code",
   "execution_count": 21,
   "id": "neither-serbia",
   "metadata": {},
   "outputs": [
    {
     "data": {
      "text/plain": [
       "0     1\n",
       "1     3\n",
       "2     3\n",
       "3     3\n",
       "4     1\n",
       "5     1\n",
       "6     1\n",
       "7     3\n",
       "8     1\n",
       "9     3\n",
       "10    1\n",
       "11    1\n",
       "12    3\n",
       "13    1\n",
       "14    3\n",
       "Name: Rock_Size, dtype: int64"
      ]
     },
     "execution_count": 21,
     "metadata": {},
     "output_type": "execute_result"
    }
   ],
   "source": [
    "# Surface Cover\n",
    "train_pd = rock_size(train_pd)\n",
    "test_pd = rock_size(test_pd)\n",
    "train_pd[\"Rock_Size\"].head(15)"
   ]
  },
  {
   "cell_type": "markdown",
   "id": "lonely-vegetation",
   "metadata": {},
   "source": [
    "#### Dimension Reduction"
   ]
  },
  {
   "cell_type": "markdown",
   "id": "prescription-breast",
   "metadata": {},
   "source": [
    "Ahora que hemos creado columnas más interesantes que Soil_Type{i}, vamos a eliminar estas (dimension reduction)."
   ]
  },
  {
   "cell_type": "code",
   "execution_count": 22,
   "id": "equivalent-ghost",
   "metadata": {},
   "outputs": [],
   "source": [
    "train_pd.drop(columns = soil_features, inplace = True)\n",
    "test_pd.drop(columns = soil_features, inplace = True)"
   ]
  },
  {
   "cell_type": "markdown",
   "id": "beautiful-association",
   "metadata": {},
   "source": [
    "Vamos a ver como han quedado las *features* de nuestro conjunto de entrenamiento."
   ]
  },
  {
   "cell_type": "code",
   "execution_count": 23,
   "id": "superior-external",
   "metadata": {},
   "outputs": [
    {
     "data": {
      "text/html": [
       "<div>\n",
       "<style scoped>\n",
       "    .dataframe tbody tr th:only-of-type {\n",
       "        vertical-align: middle;\n",
       "    }\n",
       "\n",
       "    .dataframe tbody tr th {\n",
       "        vertical-align: top;\n",
       "    }\n",
       "\n",
       "    .dataframe thead th {\n",
       "        text-align: right;\n",
       "    }\n",
       "</style>\n",
       "<table border=\"1\" class=\"dataframe\">\n",
       "  <thead>\n",
       "    <tr style=\"text-align: right;\">\n",
       "      <th></th>\n",
       "      <th>Elevation</th>\n",
       "      <th>Aspect</th>\n",
       "      <th>Slope</th>\n",
       "      <th>Horizontal_Distance_To_Hydrology</th>\n",
       "      <th>Vertical_Distance_To_Hydrology</th>\n",
       "      <th>Horizontal_Distance_To_Roadways</th>\n",
       "      <th>Hillshade_9am</th>\n",
       "      <th>Hillshade_Noon</th>\n",
       "      <th>Hillshade_3pm</th>\n",
       "      <th>Horizontal_Distance_To_Fire_Points</th>\n",
       "      <th>Wilderness_Area1</th>\n",
       "      <th>Wilderness_Area2</th>\n",
       "      <th>Wilderness_Area3</th>\n",
       "      <th>Wilderness_Area4</th>\n",
       "      <th>Cover_Type</th>\n",
       "      <th>Soil_Type</th>\n",
       "      <th>Climatic_Zone</th>\n",
       "      <th>Geologic_Zone</th>\n",
       "      <th>Surface_Cover</th>\n",
       "      <th>Rock_Size</th>\n",
       "    </tr>\n",
       "  </thead>\n",
       "  <tbody>\n",
       "    <tr>\n",
       "      <th>0</th>\n",
       "      <td>1863</td>\n",
       "      <td>37</td>\n",
       "      <td>17</td>\n",
       "      <td>120</td>\n",
       "      <td>18</td>\n",
       "      <td>90</td>\n",
       "      <td>217</td>\n",
       "      <td>202</td>\n",
       "      <td>115</td>\n",
       "      <td>769</td>\n",
       "      <td>0</td>\n",
       "      <td>0</td>\n",
       "      <td>0</td>\n",
       "      <td>1</td>\n",
       "      <td>6</td>\n",
       "      <td>2</td>\n",
       "      <td>2</td>\n",
       "      <td>7</td>\n",
       "      <td>2</td>\n",
       "      <td>1</td>\n",
       "    </tr>\n",
       "    <tr>\n",
       "      <th>1</th>\n",
       "      <td>1874</td>\n",
       "      <td>18</td>\n",
       "      <td>14</td>\n",
       "      <td>0</td>\n",
       "      <td>0</td>\n",
       "      <td>90</td>\n",
       "      <td>208</td>\n",
       "      <td>209</td>\n",
       "      <td>135</td>\n",
       "      <td>793</td>\n",
       "      <td>0</td>\n",
       "      <td>0</td>\n",
       "      <td>0</td>\n",
       "      <td>1</td>\n",
       "      <td>6</td>\n",
       "      <td>5</td>\n",
       "      <td>2</td>\n",
       "      <td>7</td>\n",
       "      <td>4</td>\n",
       "      <td>3</td>\n",
       "    </tr>\n",
       "    <tr>\n",
       "      <th>2</th>\n",
       "      <td>1879</td>\n",
       "      <td>28</td>\n",
       "      <td>19</td>\n",
       "      <td>30</td>\n",
       "      <td>12</td>\n",
       "      <td>95</td>\n",
       "      <td>209</td>\n",
       "      <td>196</td>\n",
       "      <td>117</td>\n",
       "      <td>778</td>\n",
       "      <td>0</td>\n",
       "      <td>0</td>\n",
       "      <td>0</td>\n",
       "      <td>1</td>\n",
       "      <td>6</td>\n",
       "      <td>5</td>\n",
       "      <td>2</td>\n",
       "      <td>7</td>\n",
       "      <td>4</td>\n",
       "      <td>3</td>\n",
       "    </tr>\n",
       "    <tr>\n",
       "      <th>3</th>\n",
       "      <td>1896</td>\n",
       "      <td>337</td>\n",
       "      <td>12</td>\n",
       "      <td>30</td>\n",
       "      <td>6</td>\n",
       "      <td>175</td>\n",
       "      <td>195</td>\n",
       "      <td>224</td>\n",
       "      <td>168</td>\n",
       "      <td>732</td>\n",
       "      <td>0</td>\n",
       "      <td>0</td>\n",
       "      <td>0</td>\n",
       "      <td>1</td>\n",
       "      <td>6</td>\n",
       "      <td>5</td>\n",
       "      <td>2</td>\n",
       "      <td>7</td>\n",
       "      <td>4</td>\n",
       "      <td>3</td>\n",
       "    </tr>\n",
       "    <tr>\n",
       "      <th>4</th>\n",
       "      <td>1898</td>\n",
       "      <td>34</td>\n",
       "      <td>23</td>\n",
       "      <td>175</td>\n",
       "      <td>56</td>\n",
       "      <td>134</td>\n",
       "      <td>210</td>\n",
       "      <td>184</td>\n",
       "      <td>99</td>\n",
       "      <td>765</td>\n",
       "      <td>0</td>\n",
       "      <td>0</td>\n",
       "      <td>0</td>\n",
       "      <td>1</td>\n",
       "      <td>6</td>\n",
       "      <td>2</td>\n",
       "      <td>2</td>\n",
       "      <td>7</td>\n",
       "      <td>2</td>\n",
       "      <td>1</td>\n",
       "    </tr>\n",
       "  </tbody>\n",
       "</table>\n",
       "</div>"
      ],
      "text/plain": [
       "   Elevation  Aspect  Slope  Horizontal_Distance_To_Hydrology  \\\n",
       "0       1863      37     17                               120   \n",
       "1       1874      18     14                                 0   \n",
       "2       1879      28     19                                30   \n",
       "3       1896     337     12                                30   \n",
       "4       1898      34     23                               175   \n",
       "\n",
       "   Vertical_Distance_To_Hydrology  Horizontal_Distance_To_Roadways  \\\n",
       "0                              18                               90   \n",
       "1                               0                               90   \n",
       "2                              12                               95   \n",
       "3                               6                              175   \n",
       "4                              56                              134   \n",
       "\n",
       "   Hillshade_9am  Hillshade_Noon  Hillshade_3pm  \\\n",
       "0            217             202            115   \n",
       "1            208             209            135   \n",
       "2            209             196            117   \n",
       "3            195             224            168   \n",
       "4            210             184             99   \n",
       "\n",
       "   Horizontal_Distance_To_Fire_Points  Wilderness_Area1  Wilderness_Area2  \\\n",
       "0                                 769                 0                 0   \n",
       "1                                 793                 0                 0   \n",
       "2                                 778                 0                 0   \n",
       "3                                 732                 0                 0   \n",
       "4                                 765                 0                 0   \n",
       "\n",
       "   Wilderness_Area3  Wilderness_Area4  Cover_Type  Soil_Type  Climatic_Zone  \\\n",
       "0                 0                 1           6          2              2   \n",
       "1                 0                 1           6          5              2   \n",
       "2                 0                 1           6          5              2   \n",
       "3                 0                 1           6          5              2   \n",
       "4                 0                 1           6          2              2   \n",
       "\n",
       "   Geologic_Zone  Surface_Cover  Rock_Size  \n",
       "0              7              2          1  \n",
       "1              7              4          3  \n",
       "2              7              4          3  \n",
       "3              7              4          3  \n",
       "4              7              2          1  "
      ]
     },
     "execution_count": 23,
     "metadata": {},
     "output_type": "execute_result"
    }
   ],
   "source": [
    "train_pd.head(5)"
   ]
  },
  {
   "cell_type": "markdown",
   "id": "entire-wholesale",
   "metadata": {},
   "source": [
    "Una vez acabado el análisi, volvemos a convertir el PandasDataframe a SparkDataframe para el siguiente paso."
   ]
  },
  {
   "cell_type": "code",
   "execution_count": 24,
   "id": "million-pickup",
   "metadata": {},
   "outputs": [],
   "source": [
    "train = spark.createDataFrame(train_pd)\n",
    "test = spark.createDataFrame(test_pd)"
   ]
  },
  {
   "cell_type": "markdown",
   "id": "continuing-possible",
   "metadata": {},
   "source": [
    "### Model training"
   ]
  },
  {
   "cell_type": "markdown",
   "id": "demanding-pharmaceutical",
   "metadata": {},
   "source": [
    "Para poder realizar el siguiente apartado deberemos importar las siguientes librerias de pyspark:"
   ]
  },
  {
   "cell_type": "code",
   "execution_count": 25,
   "id": "neutral-portuguese",
   "metadata": {},
   "outputs": [],
   "source": [
    "from pyspark import SparkContext\n",
    "from pyspark.sql import SQLContext\n",
    "from pyspark.ml.classification import DecisionTreeClassifier\n",
    "from pyspark.ml.evaluation import MulticlassClassificationEvaluator\n",
    "from pyspark.ml.feature import VectorAssembler\n",
    "from pyspark.sql.types import DoubleType\n",
    "from sklearn.metrics import confusion_matrix"
   ]
  },
  {
   "cell_type": "markdown",
   "id": "extra-mexican",
   "metadata": {},
   "source": [
    "Antes de ejecutar el DecisionTreeClassifier, vamos a preparar los datos, para usarlos con un clasificador en MLlibl.\n",
    "\n",
    "El DataFrame de entrada contiene muchas columnas, cada una con una característica que podría usarse para predecir la columna de destino. MLlib requiere que todas las entradas se recopilen en una columna, cuyo valor es un vector. Esta clase es una abstracción de vectores en el sentido del álgebra lineal y solo contiene números. Para la mayoría de los intentos y propósitos, funcionan como una matriz simple de valores dobles (números de coma flotante). Por supuesto, algunas de las características de entrada son conceptualmente categóricas, incluso si todas están representadas con números en la entrada.\n",
    "\n",
    "Afortunadamente, la clase VectorAssembler puede hacer este trabajo:"
   ]
  },
  {
   "cell_type": "code",
   "execution_count": 33,
   "id": "applied-glory",
   "metadata": {},
   "outputs": [],
   "source": [
    "train_vector_assembler = VectorAssembler(inputCols = train.drop(\"Cover_Type\").columns, outputCol = 'featureVector').setHandleInvalid(\"keep\")\n",
    "test_vector_assembler = VectorAssembler(inputCols = test.columns, outputCol = 'featureVector').setHandleInvalid(\"keep\")\n",
    "\n",
    "train_vector = train_vector_assembler.transform(train)\n",
    "test_vector = test_vector_assembler.transform(test)"
   ]
  },
  {
   "cell_type": "markdown",
   "id": "protecting-decimal",
   "metadata": {},
   "source": [
    "Ahora, podemos ejecturar el modelo."
   ]
  },
  {
   "cell_type": "code",
   "execution_count": 34,
   "id": "statewide-details",
   "metadata": {},
   "outputs": [],
   "source": [
    "classifier = DecisionTreeClassifier(seed=seed, labelCol=\"Cover_Type\", featuresCol=\"featureVector\", predictionCol=\"prediction\")\n",
    "\n",
    "trained_model = classifier.fit(train_vector)\n",
    "\n",
    "pred = trained_model.transform(test_vector)\n"
   ]
  },
  {
   "cell_type": "markdown",
   "id": "naked-proportion",
   "metadata": {},
   "source": [
    "Los árboles de decisión pueden evaluar la importancia de las características de entrada como parte de su proceso de construcción. Es decir, pueden estimar cuánto contribuye cada característica de entrada a hacer predicciones correctas. Esta información es de fácil acceso desde el modelo. Cuanto mayor sea el valor, mejor."
   ]
  },
  {
   "cell_type": "code",
   "execution_count": 35,
   "id": "super-garden",
   "metadata": {},
   "outputs": [
    {
     "data": {
      "text/html": [
       "<div>\n",
       "<style scoped>\n",
       "    .dataframe tbody tr th:only-of-type {\n",
       "        vertical-align: middle;\n",
       "    }\n",
       "\n",
       "    .dataframe tbody tr th {\n",
       "        vertical-align: top;\n",
       "    }\n",
       "\n",
       "    .dataframe thead th {\n",
       "        text-align: right;\n",
       "    }\n",
       "</style>\n",
       "<table border=\"1\" class=\"dataframe\">\n",
       "  <thead>\n",
       "    <tr style=\"text-align: right;\">\n",
       "      <th></th>\n",
       "      <th>importance</th>\n",
       "    </tr>\n",
       "  </thead>\n",
       "  <tbody>\n",
       "    <tr>\n",
       "      <th>Elevation</th>\n",
       "      <td>0.723741</td>\n",
       "    </tr>\n",
       "    <tr>\n",
       "      <th>Soil_Type</th>\n",
       "      <td>0.076827</td>\n",
       "    </tr>\n",
       "    <tr>\n",
       "      <th>Geologic_Zone</th>\n",
       "      <td>0.044985</td>\n",
       "    </tr>\n",
       "    <tr>\n",
       "      <th>Climatic_Zone</th>\n",
       "      <td>0.044028</td>\n",
       "    </tr>\n",
       "    <tr>\n",
       "      <th>Wilderness_Area3</th>\n",
       "      <td>0.041269</td>\n",
       "    </tr>\n",
       "    <tr>\n",
       "      <th>Wilderness_Area1</th>\n",
       "      <td>0.031490</td>\n",
       "    </tr>\n",
       "    <tr>\n",
       "      <th>Hillshade_Noon</th>\n",
       "      <td>0.018813</td>\n",
       "    </tr>\n",
       "    <tr>\n",
       "      <th>Horizontal_Distance_To_Hydrology</th>\n",
       "      <td>0.011755</td>\n",
       "    </tr>\n",
       "    <tr>\n",
       "      <th>Horizontal_Distance_To_Fire_Points</th>\n",
       "      <td>0.006791</td>\n",
       "    </tr>\n",
       "    <tr>\n",
       "      <th>Horizontal_Distance_To_Roadways</th>\n",
       "      <td>0.000300</td>\n",
       "    </tr>\n",
       "    <tr>\n",
       "      <th>Aspect</th>\n",
       "      <td>0.000000</td>\n",
       "    </tr>\n",
       "    <tr>\n",
       "      <th>Hillshade_3pm</th>\n",
       "      <td>0.000000</td>\n",
       "    </tr>\n",
       "    <tr>\n",
       "      <th>Wilderness_Area2</th>\n",
       "      <td>0.000000</td>\n",
       "    </tr>\n",
       "  </tbody>\n",
       "</table>\n",
       "</div>"
      ],
      "text/plain": [
       "                                    importance\n",
       "Elevation                             0.723741\n",
       "Soil_Type                             0.076827\n",
       "Geologic_Zone                         0.044985\n",
       "Climatic_Zone                         0.044028\n",
       "Wilderness_Area3                      0.041269\n",
       "Wilderness_Area1                      0.031490\n",
       "Hillshade_Noon                        0.018813\n",
       "Horizontal_Distance_To_Hydrology      0.011755\n",
       "Horizontal_Distance_To_Fire_Points    0.006791\n",
       "Horizontal_Distance_To_Roadways       0.000300\n",
       "Aspect                                0.000000\n",
       "Hillshade_3pm                         0.000000\n",
       "Wilderness_Area2                      0.000000"
      ]
     },
     "execution_count": 35,
     "metadata": {},
     "output_type": "execute_result"
    }
   ],
   "source": [
    "pd.DataFrame(trained_model.featureImportances.toArray(), index=train.drop(\"Cover_Type\").columns, columns=['importance']).sort_values(by=\"importance\", ascending=False).head(13)"
   ]
  },
  {
   "cell_type": "markdown",
   "id": "lined-identifier",
   "metadata": {},
   "source": [
    "Vemos que las features con más importancia son aquellas que hemos creado nosotros en el featureEngineering, por lo tanto, podemos decir que son buenas columnas, o almenos, mejor que el SoilType{i} de base."
   ]
  },
  {
   "cell_type": "markdown",
   "id": "italic-cleveland",
   "metadata": {},
   "source": [
    "Vamos a visualizar algunas de las columnas computadas por el modelo. El resultado también contendra la columna \"probabilidad\" que proporciona la estimación del modelo de la probabilidad de que cada posible resultado sea correcto. Esto muestra que en estos casos, es bastante seguro que la respuesta es 3 en varios casos y bastante seguro que la respuesta no es 1."
   ]
  },
  {
   "cell_type": "code",
   "execution_count": 36,
   "id": "built-killer",
   "metadata": {},
   "outputs": [
    {
     "name": "stdout",
     "output_type": "stream",
     "text": [
      "+----------+----------+------------------------------------------------------------------------------------------------------------------+\n",
      "|Cover_Type|prediction|probability                                                                                                       |\n",
      "+----------+----------+------------------------------------------------------------------------------------------------------------------+\n",
      "|6         |3.0       |[0.0,0.0,0.05898918783002263,0.6901181795323108,0.06688458637163691,3.0173497611264775E-4,0.18370631128991702,0.0]|\n",
      "|6         |3.0       |[0.0,0.0,0.05898918783002263,0.6901181795323108,0.06688458637163691,3.0173497611264775E-4,0.18370631128991702,0.0]|\n",
      "|6         |3.0       |[0.0,0.0,0.05898918783002263,0.6901181795323108,0.06688458637163691,3.0173497611264775E-4,0.18370631128991702,0.0]|\n",
      "|3         |3.0       |[0.0,0.0,0.05898918783002263,0.6901181795323108,0.06688458637163691,3.0173497611264775E-4,0.18370631128991702,0.0]|\n",
      "|3         |3.0       |[0.0,0.0,0.05898918783002263,0.6901181795323108,0.06688458637163691,3.0173497611264775E-4,0.18370631128991702,0.0]|\n",
      "|3         |3.0       |[0.0,0.0,0.05898918783002263,0.6901181795323108,0.06688458637163691,3.0173497611264775E-4,0.18370631128991702,0.0]|\n",
      "|6         |3.0       |[0.0,0.0,0.05898918783002263,0.6901181795323108,0.06688458637163691,3.0173497611264775E-4,0.18370631128991702,0.0]|\n",
      "|6         |3.0       |[0.0,0.0,0.05898918783002263,0.6901181795323108,0.06688458637163691,3.0173497611264775E-4,0.18370631128991702,0.0]|\n",
      "|3         |3.0       |[0.0,0.0,0.05898918783002263,0.6901181795323108,0.06688458637163691,3.0173497611264775E-4,0.18370631128991702,0.0]|\n",
      "|4         |3.0       |[0.0,0.0,0.05898918783002263,0.6901181795323108,0.06688458637163691,3.0173497611264775E-4,0.18370631128991702,0.0]|\n",
      "+----------+----------+------------------------------------------------------------------------------------------------------------------+\n",
      "only showing top 10 rows\n",
      "\n"
     ]
    }
   ],
   "source": [
    "pred.select(\"Cover_Type\", \"prediction\", \"probability\").show(10, truncate = False)"
   ]
  },
  {
   "cell_type": "markdown",
   "id": "minute-arrest",
   "metadata": {},
   "source": [
    "Este vector de \"probability\" tiene 8 valores, aunque el total de *otputs* sea de 7 columnas. Esto es debido a que en este también existe un valor en el indice 0, en el que siempre se muestra la probabilidad de 0.0. Este valor peude ser ignorado."
   ]
  },
  {
   "cell_type": "markdown",
   "id": "nearby-embassy",
   "metadata": {},
   "source": [
    "### Evaluation"
   ]
  },
  {
   "cell_type": "markdown",
   "id": "worst-bosnia",
   "metadata": {},
   "source": [
    "Para evaluar el modelo, tenemos diferentes métricas, vamos a utilizar el accuracy."
   ]
  },
  {
   "cell_type": "code",
   "execution_count": 37,
   "id": "integrated-fruit",
   "metadata": {},
   "outputs": [],
   "source": [
    "evaluator = MulticlassClassificationEvaluator(labelCol=\"Cover_Type\", predictionCol=\"prediction\")\n",
    "\n",
    "accur = evaluator.setMetricName(\"accuracy\").evaluate(pred)\n",
    "f1 = evaluator.setMetricName(\"f1\").evaluate(pred)"
   ]
  },
  {
   "cell_type": "code",
   "execution_count": 38,
   "id": "dramatic-december",
   "metadata": {},
   "outputs": [
    {
     "name": "stdout",
     "output_type": "stream",
     "text": [
      "Accuracy: 0.6733778426872522\n",
      "F1: 0.6446491722949704\n"
     ]
    }
   ],
   "source": [
    "print(\"Accuracy:\", accur)\n",
    "print(f\"F1:\", f1)"
   ]
  },
  {
   "cell_type": "markdown",
   "id": "funny-broad",
   "metadata": {},
   "source": [
    "Mediante la librería *sklearn* también podemos ver la *confussion matrix*."
   ]
  },
  {
   "cell_type": "code",
   "execution_count": 32,
   "id": "better-jungle",
   "metadata": {},
   "outputs": [
    {
     "name": "stdout",
     "output_type": "stream",
     "text": [
      "Confusion Matrix:\n",
      "[[190123      0      0      0      0      0      0]\n",
      " [     0 254741      0      0      0      0      0]\n",
      " [     0      0  31787      0      0      0      0]\n",
      " [     0      0      0   1978      0      0      0]\n",
      " [     0      0      0      0   8042      0      0]\n",
      " [     0      0      0      0      0  15086      0]\n",
      " [     0      0      0      0      0      0  17958]]\n"
     ]
    }
   ],
   "source": [
    "y_pred=pred.select(\"Cover_Type\").collect()\n",
    "y_orig=pred.select(\"Cover_Type\").collect()\n",
    "\n",
    "cm = confusion_matrix(y_orig, y_pred)\n",
    "print(\"Confusion Matrix:\")\n",
    "print(cm)"
   ]
  },
  {
   "cell_type": "markdown",
   "id": "sustainable-bacteria",
   "metadata": {},
   "source": [
    "### Random Forest"
   ]
  },
  {
   "cell_type": "code",
   "execution_count": 8,
   "id": "alive-settle",
   "metadata": {},
   "outputs": [],
   "source": [
    "from pyspark.ml.classification import RandomForestClassifier\n",
    "from pyspark.ml.tuning import ParamGridBuilder,CrossValidator\n",
    "from pyspark.ml.evaluation import BinaryClassificationEvaluator\n",
    "\n",
    "# init random forest object\n",
    "rf = RandomForestClassifier(\n",
    "    featuresCol='featureVector', \n",
    "    labelCol='Cover_Type',\n",
    "    predictionCol=\"prediction\",\n",
    ")\n",
    "\n",
    "rfc = rf.fit(train_vector)\n",
    "\n",
    "pred = rfc.transform(test_vector)"
   ]
  }
 ],
 "metadata": {
  "kernelspec": {
   "display_name": "Python 3",
   "language": "python",
   "name": "python3"
  },
  "language_info": {
   "codemirror_mode": {
    "name": "ipython",
    "version": 3
   },
   "file_extension": ".py",
   "mimetype": "text/x-python",
   "name": "python",
   "nbconvert_exporter": "python",
   "pygments_lexer": "ipython3",
   "version": "3.9.7"
  }
 },
 "nbformat": 4,
 "nbformat_minor": 5
}
